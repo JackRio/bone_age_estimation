{
 "cells": [
  {
   "cell_type": "code",
   "execution_count": null,
   "outputs": [],
   "source": [
    "import os\n",
    "os.chdir(\"../\")"
   ],
   "metadata": {
    "collapsed": false
   }
  },
  {
   "cell_type": "code",
   "execution_count": null,
   "metadata": {
    "collapsed": true
   },
   "outputs": [],
   "source": [
    "import pandas as pd"
   ]
  },
  {
   "cell_type": "code",
   "execution_count": null,
   "outputs": [],
   "source": [
    "base_rsna_path = \"data/rsna-bone-age/validation\""
   ],
   "metadata": {
    "collapsed": false
   }
  },
  {
   "cell_type": "code",
   "execution_count": null,
   "outputs": [],
   "source": [
    "test_df = pd.read_csv(os.path.join(base_rsna_path, \"Validation Dataset.csv\")).rename(columns={\"Image ID\": \"id\", \"Bone Age (months)\": \"boneage\"})"
   ],
   "metadata": {
    "collapsed": false
   }
  },
  {
   "cell_type": "code",
   "execution_count": null,
   "outputs": [],
   "source": [
    "test_df['gender'] = test_df['male'].map(lambda x: 0 if x else 1)"
   ],
   "metadata": {
    "collapsed": false
   }
  },
  {
   "cell_type": "code",
   "execution_count": null,
   "outputs": [],
   "source": [
    "# create path column but map it only if the path exists\n",
    "test_df[\"path\"] = test_df[\"id\"].map(lambda x: os.path.join(base_rsna_path, \"boneage-validation-dataset-1\", f\"{x}.png\") if os.path.exists(os.path.join(base_rsna_path, \"boneage-validation-dataset-1\", f\"{x}.png\")) else os.path.join(base_rsna_path, \"boneage-validation-dataset-2\", f\"{x}.png\"))\n"
   ],
   "metadata": {
    "collapsed": false
   }
  },
  {
   "cell_type": "code",
   "execution_count": null,
   "outputs": [],
   "source": [
    "test_df['exists'] = test_df['path'].map(os.path.exists)"
   ],
   "metadata": {
    "collapsed": false
   }
  },
  {
   "cell_type": "code",
   "execution_count": null,
   "outputs": [],
   "source": [
    "test_df.drop(columns=['male', 'exists'], inplace=True)"
   ],
   "metadata": {
    "collapsed": false
   }
  },
  {
   "cell_type": "code",
   "execution_count": null,
   "outputs": [],
   "source": [
    "test_df.columns"
   ],
   "metadata": {
    "collapsed": false
   }
  },
  {
   "cell_type": "code",
   "execution_count": null,
   "outputs": [],
   "source": [
    "len(test_df)"
   ],
   "metadata": {
    "collapsed": false
   }
  },
  {
   "cell_type": "code",
   "execution_count": null,
   "outputs": [],
   "source": [
    "test_df[\"path\"] = test_df[\"id\"].map(lambda x: os.path.join(base_rsna_path, \"preprocessed\", f\"{x}.png\"))"
   ],
   "metadata": {
    "collapsed": false
   }
  },
  {
   "cell_type": "code",
   "execution_count": null,
   "outputs": [],
   "source": [
    "test_df['exists'] = test_df['path'].map(os.path.exists)"
   ],
   "metadata": {
    "collapsed": false
   }
  },
  {
   "cell_type": "code",
   "execution_count": null,
   "outputs": [],
   "source": [
    "test_df = test_df[test_df['exists']]\n"
   ],
   "metadata": {
    "collapsed": false
   }
  },
  {
   "cell_type": "code",
   "execution_count": null,
   "outputs": [],
   "source": [
    "len(test_df)"
   ],
   "metadata": {
    "collapsed": false
   }
  },
  {
   "cell_type": "code",
   "execution_count": null,
   "outputs": [],
   "source": [
    "test_df.to_csv(os.path.join(base_rsna_path, \"test_df.csv\"))"
   ],
   "metadata": {
    "collapsed": false
   }
  },
  {
   "cell_type": "code",
   "execution_count": null,
   "outputs": [],
   "source": [],
   "metadata": {
    "collapsed": false
   }
  },
  {
   "cell_type": "code",
   "execution_count": null,
   "outputs": [],
   "source": [],
   "metadata": {
    "collapsed": false
   }
  },
  {
   "cell_type": "markdown",
   "source": [
    "\n",
    "### Evaluating the results"
   ],
   "metadata": {
    "collapsed": false
   }
  },
  {
   "cell_type": "code",
   "execution_count": null,
   "outputs": [],
   "source": [
    "import pandas as pd\n",
    "import matplotlib.pyplot as plt"
   ],
   "metadata": {
    "collapsed": false
   }
  },
  {
   "cell_type": "code",
   "execution_count": null,
   "outputs": [],
   "source": [
    "test_results = pd.read_csv(\"output/inception_gender_validation.csv\")"
   ],
   "metadata": {
    "collapsed": false
   }
  },
  {
   "cell_type": "code",
   "execution_count": null,
   "outputs": [],
   "source": [
    "def generate_bins(df):\n",
    "    num_bins = 10\n",
    "\n",
    "    # Calculate the bin width\n",
    "    bin_width = (df['actual_ages'].max() - df['actual_ages'].min()) / num_bins\n",
    "\n",
    "    # Create the bin boundaries\n",
    "    bin_boundaries = [df['actual_ages'].min() + i * bin_width for i in range(num_bins + 1)]\n",
    "\n",
    "    # Create the labels for the bins\n",
    "    bin_labels = [f'Bin {i+1}' for i in range(num_bins)]\n",
    "\n",
    "    # Add a new column to the dataframe representing the bin labels\n",
    "    df['bin'] = pd.cut(df['actual_ages'], bins=bin_boundaries, labels=bin_labels, include_lowest=True)\n",
    "\n",
    "    # Create a dictionary to store the separate dataframes\n",
    "    dfs = {}\n",
    "\n",
    "    # Split the dataframe into separate dataframes based on the bin labels\n",
    "    for label in bin_labels:\n",
    "        dfs[label] = df[df['bin'] == label].copy()\n",
    "\n",
    "    for label, df_bin in dfs.items():\n",
    "        df_bin.drop('bin', axis=1, inplace=True)\n",
    "\n",
    "    return dfs"
   ],
   "metadata": {
    "collapsed": false
   }
  },
  {
   "cell_type": "code",
   "execution_count": null,
   "outputs": [],
   "source": [
    "def plot_mae(dfs):\n",
    "    mae_values = {}\n",
    "\n",
    "    # Create a dictionary to store the bin ranges and counts\n",
    "    bin_ranges = {}\n",
    "    bin_counts = {}\n",
    "\n",
    "    # Calculate the MAE for each bin and store the bin ranges and counts\n",
    "    for label, df_bin in dfs.items():\n",
    "        actual_ages = df_bin['actual_ages']\n",
    "        predicted_ages = df_bin['predicted_ages']\n",
    "        mae = (actual_ages - predicted_ages).abs().mean()\n",
    "        mae_values[label] = mae\n",
    "        bin_ranges[label] = f'{df_bin[\"actual_ages\"].min()}-{df_bin[\"actual_ages\"].max()}'\n",
    "        bin_counts[label] = len(df_bin)\n",
    "\n",
    "    # Convert the MAE values, bin ranges, and counts to pandas Series\n",
    "    mae_series = pd.Series(mae_values)\n",
    "    bin_ranges_series = pd.Series(bin_ranges)\n",
    "    bin_counts_series = pd.Series(bin_counts)\n",
    "\n",
    "    # Plot the MAE values\n",
    "    plt.figure(figsize=(10, 6))\n",
    "    ax = mae_series.plot(kind='bar')\n",
    "    plt.xlabel('Bins')\n",
    "    plt.ylabel('Mean Absolute Error (MAE)')\n",
    "    plt.title('MAE for Each Bin')\n",
    "    plt.xticks(range(len(bin_ranges)), [f'{bin_ranges_series[i]}\\nCount: {bin_counts_series[i]}' for i in range(len(bin_ranges))], rotation=45)\n",
    "    plt.show()"
   ],
   "metadata": {
    "collapsed": false
   }
  },
  {
   "cell_type": "code",
   "execution_count": null,
   "outputs": [],
   "source": [],
   "metadata": {
    "collapsed": false
   }
  },
  {
   "cell_type": "code",
   "execution_count": null,
   "outputs": [],
   "source": [
    "dfs = generate_bins(test_results[test_results['genders']==0])\n",
    "plot_mae(dfs)"
   ],
   "metadata": {
    "collapsed": false
   }
  },
  {
   "cell_type": "code",
   "execution_count": null,
   "outputs": [],
   "source": [
    "dfs = generate_bins(test_results[test_results['genders']==1])\n",
    "plot_mae(dfs)"
   ],
   "metadata": {
    "collapsed": false
   }
  },
  {
   "cell_type": "code",
   "execution_count": null,
   "outputs": [],
   "source": [],
   "metadata": {
    "collapsed": false
   }
  }
 ],
 "metadata": {
  "kernelspec": {
   "display_name": "Python 3",
   "language": "python",
   "name": "python3"
  },
  "language_info": {
   "codemirror_mode": {
    "name": "ipython",
    "version": 2
   },
   "file_extension": ".py",
   "mimetype": "text/x-python",
   "name": "python",
   "nbconvert_exporter": "python",
   "pygments_lexer": "ipython2",
   "version": "2.7.6"
  }
 },
 "nbformat": 4,
 "nbformat_minor": 0
}
