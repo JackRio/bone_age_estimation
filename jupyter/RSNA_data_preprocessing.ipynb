{
 "cells": [
  {
   "cell_type": "code",
   "execution_count": 1,
   "metadata": {
    "collapsed": true,
    "ExecuteTime": {
     "end_time": "2023-06-09T10:29:34.730969900Z",
     "start_time": "2023-06-09T10:29:33.808989600Z"
    }
   },
   "outputs": [
    {
     "data": {
      "text/plain": "['Mexico_data_preprocessing.ipynb', 'RSNA_data_preprocessing.ipynb']"
     },
     "execution_count": 1,
     "metadata": {},
     "output_type": "execute_result"
    }
   ],
   "source": [
    "import os\n",
    "\n",
    "import pandas as pd\n",
    "from sklearn.model_selection import train_test_split\n",
    "\n",
    "os.listdir()"
   ]
  },
  {
   "cell_type": "code",
   "execution_count": 2,
   "outputs": [
    {
     "data": {
      "text/plain": "'D:\\\\David Mexico\\\\Bone age estimation\\\\bone_age_estimation'"
     },
     "execution_count": 2,
     "metadata": {},
     "output_type": "execute_result"
    }
   ],
   "source": [
    "os.chdir(\"../\")\n",
    "main_dir = os.getcwd()\n",
    "main_dir"
   ],
   "metadata": {
    "collapsed": false,
    "ExecuteTime": {
     "end_time": "2023-06-09T10:29:34.735978900Z",
     "start_time": "2023-06-09T10:29:34.730969900Z"
    }
   }
  },
  {
   "cell_type": "code",
   "execution_count": 3,
   "outputs": [
    {
     "data": {
      "text/plain": "     id  boneage   male\n0  1377      180  False\n1  1378       12  False\n2  1379       94  False\n3  1380      120   True\n4  1381       82  False",
      "text/html": "<div>\n<style scoped>\n    .dataframe tbody tr th:only-of-type {\n        vertical-align: middle;\n    }\n\n    .dataframe tbody tr th {\n        vertical-align: top;\n    }\n\n    .dataframe thead th {\n        text-align: right;\n    }\n</style>\n<table border=\"1\" class=\"dataframe\">\n  <thead>\n    <tr style=\"text-align: right;\">\n      <th></th>\n      <th>id</th>\n      <th>boneage</th>\n      <th>male</th>\n    </tr>\n  </thead>\n  <tbody>\n    <tr>\n      <th>0</th>\n      <td>1377</td>\n      <td>180</td>\n      <td>False</td>\n    </tr>\n    <tr>\n      <th>1</th>\n      <td>1378</td>\n      <td>12</td>\n      <td>False</td>\n    </tr>\n    <tr>\n      <th>2</th>\n      <td>1379</td>\n      <td>94</td>\n      <td>False</td>\n    </tr>\n    <tr>\n      <th>3</th>\n      <td>1380</td>\n      <td>120</td>\n      <td>True</td>\n    </tr>\n    <tr>\n      <th>4</th>\n      <td>1381</td>\n      <td>82</td>\n      <td>False</td>\n    </tr>\n  </tbody>\n</table>\n</div>"
     },
     "execution_count": 3,
     "metadata": {},
     "output_type": "execute_result"
    }
   ],
   "source": [
    "age_df = pd.read_csv(\"data/rsna-bone-age/training/train.csv\")\n",
    "age_df.head()"
   ],
   "metadata": {
    "collapsed": false,
    "ExecuteTime": {
     "end_time": "2023-06-09T10:29:34.783440900Z",
     "start_time": "2023-06-09T10:29:34.737099500Z"
    }
   }
  },
  {
   "cell_type": "code",
   "execution_count": 4,
   "outputs": [],
   "source": [
    "# Map id to path\n",
    "age_df['path'] = age_df['id'].map(lambda x: os.path.join(main_dir,\n",
    "                                                         'data',\n",
    "                                                         'rsna-bone-age',\n",
    "                                                         'training',\n",
    "                                                         'boneage-training-dataset',\n",
    "                                                         '{}.png'.format(x)))"
   ],
   "metadata": {
    "collapsed": false,
    "ExecuteTime": {
     "end_time": "2023-06-09T10:29:34.846816500Z",
     "start_time": "2023-06-09T10:29:34.751965900Z"
    }
   }
  },
  {
   "cell_type": "code",
   "execution_count": 5,
   "outputs": [
    {
     "name": "stdout",
     "output_type": "stream",
     "text": [
      "12611 images found of 12611 total\n"
     ]
    }
   ],
   "source": [
    "# Checking if all the images exist\n",
    "age_df['exists'] = age_df['path'].map(os.path.exists)\n",
    "print(age_df['exists'].sum(), 'images found of', age_df.shape[0], 'total')\n",
    "\n",
    "# Convert boolean male values to gender 0(male) and 1(female)\n",
    "age_df['gender'] = age_df['male'].map(lambda x: 0 if x else 1)"
   ],
   "metadata": {
    "collapsed": false,
    "ExecuteTime": {
     "end_time": "2023-06-09T10:29:35.603740300Z",
     "start_time": "2023-06-09T10:29:34.814891Z"
    }
   }
  },
  {
   "cell_type": "code",
   "execution_count": 6,
   "outputs": [
    {
     "data": {
      "text/plain": "         id  boneage   male  \\\n5047   7166      132  False   \n9303  11920      150   True   \n2220   3847      144  False   \n\n                                                   path  exists  gender  \\\n5047  D:\\David Mexico\\Bone age estimation\\bone_age_e...    True       1   \n9303  D:\\David Mexico\\Bone age estimation\\bone_age_e...    True       0   \n2220  D:\\David Mexico\\Bone age estimation\\bone_age_e...    True       1   \n\n      boneage_zscore boneage_category  \n5047           132.0   (114.5, 137.2]  \n9303           150.0   (137.2, 159.9]  \n2220           144.0   (137.2, 159.9]  ",
      "text/html": "<div>\n<style scoped>\n    .dataframe tbody tr th:only-of-type {\n        vertical-align: middle;\n    }\n\n    .dataframe tbody tr th {\n        vertical-align: top;\n    }\n\n    .dataframe thead th {\n        text-align: right;\n    }\n</style>\n<table border=\"1\" class=\"dataframe\">\n  <thead>\n    <tr style=\"text-align: right;\">\n      <th></th>\n      <th>id</th>\n      <th>boneage</th>\n      <th>male</th>\n      <th>path</th>\n      <th>exists</th>\n      <th>gender</th>\n      <th>boneage_zscore</th>\n      <th>boneage_category</th>\n    </tr>\n  </thead>\n  <tbody>\n    <tr>\n      <th>5047</th>\n      <td>7166</td>\n      <td>132</td>\n      <td>False</td>\n      <td>D:\\David Mexico\\Bone age estimation\\bone_age_e...</td>\n      <td>True</td>\n      <td>1</td>\n      <td>132.0</td>\n      <td>(114.5, 137.2]</td>\n    </tr>\n    <tr>\n      <th>9303</th>\n      <td>11920</td>\n      <td>150</td>\n      <td>True</td>\n      <td>D:\\David Mexico\\Bone age estimation\\bone_age_e...</td>\n      <td>True</td>\n      <td>0</td>\n      <td>150.0</td>\n      <td>(137.2, 159.9]</td>\n    </tr>\n    <tr>\n      <th>2220</th>\n      <td>3847</td>\n      <td>144</td>\n      <td>False</td>\n      <td>D:\\David Mexico\\Bone age estimation\\bone_age_e...</td>\n      <td>True</td>\n      <td>1</td>\n      <td>144.0</td>\n      <td>(137.2, 159.9]</td>\n    </tr>\n  </tbody>\n</table>\n</div>"
     },
     "execution_count": 6,
     "metadata": {},
     "output_type": "execute_result"
    }
   ],
   "source": [
    "boneage_mean = age_df['boneage'].mean()\n",
    "boneage_div = 2 * age_df['boneage'].std()\n",
    "# we don't want normalization for now\n",
    "boneage_mean = 0\n",
    "boneage_div = 1.0\n",
    "age_df['boneage_zscore'] = age_df['boneage'].map(lambda x: (x - boneage_mean) / boneage_div)\n",
    "age_df.dropna(inplace=True)\n",
    "\n",
    "# Creating bins for the boneage\n",
    "age_df['boneage_category'] = pd.cut(age_df['boneage'], 10)\n",
    "age_df.sample(3)"
   ],
   "metadata": {
    "collapsed": false,
    "ExecuteTime": {
     "end_time": "2023-06-09T10:29:35.658477700Z",
     "start_time": "2023-06-09T10:29:35.603740300Z"
    }
   }
  },
  {
   "cell_type": "code",
   "execution_count": 7,
   "outputs": [],
   "source": [
    "# Splitting the data into train and validation based on the boneage_category\n",
    "age_df['boneage_category'] = pd.cut(age_df['boneage'], 10)\n",
    "raw_train_df, valid_df = train_test_split(age_df,\n",
    "                                          test_size=0.25,\n",
    "                                          random_state=2018,\n",
    "                                          stratify=age_df['boneage_category'])\n",
    "# Saving the dataframe with boneage, path, id and gender information\n",
    "train_df = raw_train_df[['id', 'boneage', 'path', 'gender']]\n",
    "validation_df = valid_df[['id', 'boneage', 'path', 'gender']]"
   ],
   "metadata": {
    "collapsed": false,
    "ExecuteTime": {
     "end_time": "2023-06-09T10:29:35.694244600Z",
     "start_time": "2023-06-09T10:29:35.634029200Z"
    }
   }
  },
  {
   "cell_type": "code",
   "execution_count": 8,
   "outputs": [],
   "source": [
    "# save dataframe not index\n",
    "train_df.to_csv('data/rsna-bone-age/training/train_df.csv', index=False)\n",
    "validation_df.to_csv('data/rsna-bone-age/training/valid_df.csv', index=False)"
   ],
   "metadata": {
    "collapsed": false,
    "ExecuteTime": {
     "end_time": "2023-06-09T10:29:35.724223300Z",
     "start_time": "2023-06-09T10:29:35.692471500Z"
    }
   }
  },
  {
   "cell_type": "markdown",
   "source": [],
   "metadata": {
    "collapsed": false
   }
  },
  {
   "cell_type": "code",
   "execution_count": 17,
   "outputs": [
    {
     "data": {
      "text/plain": "9472"
     },
     "execution_count": 17,
     "metadata": {},
     "output_type": "execute_result"
    }
   ],
   "source": [
    "592*16"
   ],
   "metadata": {
    "collapsed": false,
    "ExecuteTime": {
     "end_time": "2023-06-09T10:34:46.919661900Z",
     "start_time": "2023-06-09T10:34:46.916457900Z"
    }
   }
  },
  {
   "cell_type": "code",
   "execution_count": null,
   "outputs": [],
   "source": [],
   "metadata": {
    "collapsed": false
   }
  }
 ],
 "metadata": {
  "kernelspec": {
   "display_name": "Python 3",
   "language": "python",
   "name": "python3"
  },
  "language_info": {
   "codemirror_mode": {
    "name": "ipython",
    "version": 2
   },
   "file_extension": ".py",
   "mimetype": "text/x-python",
   "name": "python",
   "nbconvert_exporter": "python",
   "pygments_lexer": "ipython2",
   "version": "2.7.6"
  }
 },
 "nbformat": 4,
 "nbformat_minor": 0
}
