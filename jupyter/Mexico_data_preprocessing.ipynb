{
 "cells": [
  {
   "cell_type": "code",
   "execution_count": null,
   "metadata": {
    "collapsed": true
   },
   "outputs": [],
   "source": [
    "import pandas as pd\n",
    "import os\n",
    "import glob\n",
    "\n",
    "os.listdir()"
   ]
  },
  {
   "cell_type": "code",
   "execution_count": null,
   "outputs": [],
   "source": [
    "os.chdir(\"../\")"
   ],
   "metadata": {
    "collapsed": false
   }
  },
  {
   "cell_type": "markdown",
   "source": [
    "## Extracts information like actual age, estimated bone age, gender and radiologist initials from the text file."
   ],
   "metadata": {
    "collapsed": false
   }
  },
  {
   "cell_type": "code",
   "execution_count": null,
   "outputs": [],
   "source": [
    "import re\n",
    "\n",
    "def calculate_total_months(duration):\n",
    "    total_months = 0\n",
    "\n",
    "    # Extract years and months from the duration string\n",
    "    years = re.findall(r'(\\d+)\\s*y', duration, re.IGNORECASE)\n",
    "    months = re.findall(r'(\\d+)\\s*m', duration, re.IGNORECASE)\n",
    "\n",
    "    # Add the years and months to the total\n",
    "    if years:\n",
    "        total_months += int(years[0]) * 12\n",
    "    if months:\n",
    "        total_months += int(months[0])\n",
    "\n",
    "    # If no years or months are found, check for a duration in months\n",
    "    if not years and not months:\n",
    "        months_only = re.findall(r'(\\d+)\\s*months?', duration, re.IGNORECASE)\n",
    "        if months_only:\n",
    "            total_months += int(months_only[0])\n",
    "\n",
    "    return total_months\n",
    "\n",
    "def clean_values(data):\n",
    "\n",
    "    age = calculate_total_months(data[0])\n",
    "    gender = [0 if data[1] == \"MALE\" else 1][0]\n",
    "\n",
    "    # Check if the age is in the second line or third line\n",
    "    if bool(re.search(r'\\d', data[2])):\n",
    "        bage = calculate_total_months(data[2])\n",
    "        radiologist = data[3].split(\":\")[1].strip()\n",
    "        print(data[2], bage)\n",
    "    else:\n",
    "        bage = calculate_total_months(data[3])\n",
    "        radiologist = data[2].split(\":\")[1].strip()\n",
    "        print(data[3], bage)\n",
    "    print(data[0], age)\n",
    "\n",
    "    return age, gender, bage, radiologist\n",
    "\n",
    "\n",
    "age, bage, gender, radiologist= [], [], [], []\n",
    "for dir in glob.glob(\"./data/Mex_sample_data/*\"):\n",
    "    for file in glob.glob(dir + \"/*.txt\"):\n",
    "        with open(file, \"r\") as f:\n",
    "            data = f.readlines()\n",
    "            data = [line.strip() for line in data if line.strip()]\n",
    "\n",
    "            cleaned = clean_values(data)\n",
    "            age.append(cleaned[0])\n",
    "            gender.append(cleaned[1])\n",
    "            bage.append(cleaned[2])\n",
    "            radiologist.append(cleaned[3])\n",
    "mexico_data = pd.DataFrame(data=zip(age, gender, bage, radiologist), columns=['age', 'gender', 'bage', 'radiologist'])"
   ],
   "metadata": {
    "collapsed": false
   }
  },
  {
   "cell_type": "code",
   "execution_count": null,
   "outputs": [],
   "source": [
    "# save pandas df as csv without index\n",
    "mexico_data.to_csv(\"./data/Mex_sample_data/mexico_data.csv\", index=False)"
   ],
   "metadata": {
    "collapsed": false
   }
  },
  {
   "cell_type": "code",
   "execution_count": null,
   "outputs": [],
   "source": [],
   "metadata": {
    "collapsed": false
   }
  }
 ],
 "metadata": {
  "kernelspec": {
   "display_name": "Python 3",
   "language": "python",
   "name": "python3"
  },
  "language_info": {
   "codemirror_mode": {
    "name": "ipython",
    "version": 2
   },
   "file_extension": ".py",
   "mimetype": "text/x-python",
   "name": "python",
   "nbconvert_exporter": "python",
   "pygments_lexer": "ipython2",
   "version": "2.7.6"
  }
 },
 "nbformat": 4,
 "nbformat_minor": 0
}
