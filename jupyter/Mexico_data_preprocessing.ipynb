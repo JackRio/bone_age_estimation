{
 "cells": [
  {
   "cell_type": "code",
   "execution_count": 3,
   "metadata": {
    "collapsed": true,
    "ExecuteTime": {
     "end_time": "2023-07-16T14:33:10.865859300Z",
     "start_time": "2023-07-16T14:33:09.096045800Z"
    }
   },
   "outputs": [
    {
     "data": {
      "text/plain": "['Mexico_data_preprocessing.ipynb',\n 'preprocessing.ipynb',\n 'RSNA_data_preprocessing.ipynb',\n 'test_set_rsna.ipynb']"
     },
     "execution_count": 3,
     "metadata": {},
     "output_type": "execute_result"
    }
   ],
   "source": [
    "import pandas as pd\n",
    "import os\n",
    "import glob\n",
    "\n",
    "os.listdir()"
   ]
  },
  {
   "cell_type": "code",
   "execution_count": 4,
   "outputs": [],
   "source": [
    "os.chdir(\"../\")"
   ],
   "metadata": {
    "collapsed": false,
    "ExecuteTime": {
     "end_time": "2023-07-16T14:33:10.865859300Z",
     "start_time": "2023-07-16T14:33:10.853775800Z"
    }
   }
  },
  {
   "cell_type": "markdown",
   "source": [
    "## Extracts information like actual age, estimated bone age, gender and radiologist initials from the text file."
   ],
   "metadata": {
    "collapsed": false
   }
  },
  {
   "cell_type": "code",
   "execution_count": 3,
   "outputs": [],
   "source": [
    "import re\n",
    "\n",
    "\n",
    "def calculate_total_months(duration):\n",
    "    total_months = 0\n",
    "\n",
    "    # Extract years and months from the duration string\n",
    "    years = re.findall(r'(\\d+)\\s*y', duration, re.IGNORECASE)\n",
    "    months = re.findall(r'(\\d+)\\s*m', duration, re.IGNORECASE)\n",
    "\n",
    "    # Add the years and months to the total\n",
    "    if years:\n",
    "        total_months += int(years[0]) * 12\n",
    "    if months:\n",
    "        total_months += int(months[0])\n",
    "\n",
    "    # If no years or months are found, check for a duration in months\n",
    "    if not years and not months:\n",
    "        months_only = re.findall(r'(\\d+)\\s*months?', duration, re.IGNORECASE)\n",
    "        if months_only:\n",
    "            total_months += int(months_only[0])\n",
    "\n",
    "    return total_months\n",
    "\n",
    "\n",
    "def check_gender(data):\n",
    "    pattern = r'(?i)GENDER:\\s*(M|F)'\n",
    "    match = re.search(pattern, data)\n",
    "    if match:\n",
    "        return match.group(1).upper()\n",
    "    else:\n",
    "        return None\n",
    "\n",
    "\n",
    "def clean_values(data):\n",
    "    age = calculate_total_months(data[0])\n",
    "    gender = [0 if data[1] == \"MALE\" else 1][0]\n",
    "\n",
    "    # Check if the age is in the second line or third line\n",
    "    if bool(re.search(r'\\d', data[2])):\n",
    "        bage = calculate_total_months(data[2])\n",
    "        radiologist = data[3].split(\":\")[1].strip().upper()\n",
    "    else:\n",
    "        bage = calculate_total_months(data[3])\n",
    "        radiologist = data[2].split(\":\")[1].strip().upper()\n",
    "\n",
    "    return age, gender, bage, radiologist\n",
    "\n",
    "# age, bage, gender, radiologist= [], [], [], []\n",
    "# for dir in glob.glob(\"./data/Mex_sample_data/*\"):\n",
    "#     for file in glob.glob(dir + \"/*.txt\"):\n",
    "#         with open(file, \"r\") as f:\n",
    "#             data = f.readlines()\n",
    "#             data = [line.strip() for line in data if line.strip()]\n",
    "#\n",
    "#             cleaned = clean_values(data)\n",
    "#             age.append(cleaned[0])\n",
    "#             gender.append(cleaned[1])\n",
    "#             bage.append(cleaned[2])\n",
    "#             radiologist.append(cleaned[3])\n",
    "# mexico_data = pd.DataFrame(data=zip(age, gender, bage, radiologist), columns=['age', 'gender', 'bage', 'radiologist'])"
   ],
   "metadata": {
    "collapsed": false,
    "ExecuteTime": {
     "end_time": "2023-07-13T08:52:54.445553300Z",
     "start_time": "2023-07-13T08:52:54.383728900Z"
    }
   }
  },
  {
   "cell_type": "code",
   "execution_count": 31,
   "outputs": [],
   "source": [],
   "metadata": {
    "collapsed": false,
    "ExecuteTime": {
     "end_time": "2023-07-10T12:40:45.745593900Z",
     "start_time": "2023-07-10T12:40:45.727370800Z"
    }
   }
  },
  {
   "cell_type": "code",
   "execution_count": 4,
   "outputs": [],
   "source": [
    "age, bage, gender, radiologist, year_entry, id_, paths = [], [], [], [], [], [], []"
   ],
   "metadata": {
    "collapsed": false,
    "ExecuteTime": {
     "end_time": "2023-07-13T08:52:57.692555600Z",
     "start_time": "2023-07-13T08:52:57.671895300Z"
    }
   }
  },
  {
   "cell_type": "code",
   "execution_count": 32,
   "outputs": [],
   "source": [
    "years = [2019]\n",
    "for year in years:\n",
    "    for dir in glob.glob(f\"data/Mexico_private_dataset/{year}/*\"):\n",
    "        for file in glob.glob(dir + \"/*.txt\"):\n",
    "            with open(file, \"r\", encoding=\"utf8\") as f:\n",
    "                data = f.readlines()\n",
    "                data = [line.strip() for line in data if line.strip()]\n",
    "                id_.append(len(id_) + 1)\n",
    "                dicom_file = glob.glob(dir + \"/*.dcm\")\n",
    "                paths.append(dicom_file[0])\n",
    "                cleaned = clean_values(data)\n",
    "                age.append(cleaned[0])\n",
    "                gender.append(cleaned[1])\n",
    "                bage.append(cleaned[2])\n",
    "                radiologist.append(cleaned[3])\n",
    "                year_entry.append(year)\n"
   ],
   "metadata": {
    "collapsed": false,
    "ExecuteTime": {
     "end_time": "2023-07-10T12:40:45.910959500Z",
     "start_time": "2023-07-10T12:40:45.891145600Z"
    }
   }
  },
  {
   "cell_type": "code",
   "execution_count": 5,
   "outputs": [],
   "source": [
    "for year in [2023]:\n",
    "    for dir in glob.glob(f\"data/Mexico_private_dataset/{year}/*\"):\n",
    "        for file in glob.glob(dir + \"/*.txt\"):\n",
    "            with open(file, \"r\", encoding=\"utf8\") as f:\n",
    "                data = f.readlines()\n",
    "                data = [line.strip() for line in data if line.strip()]\n",
    "                id_.append(len(id_) + 1)\n",
    "                dicom_file = glob.glob(dir + \"/*.dcm\")\n",
    "                paths.append(dicom_file[0])\n",
    "                age.append(calculate_total_months(data[0]))\n",
    "                if check_gender(data[1]) == \"M\":\n",
    "                    gender.append(0)\n",
    "                elif check_gender(data[1]) == \"F\":\n",
    "                    gender.append(1)\n",
    "                else:\n",
    "                    gender.append(None)\n",
    "                bage.append(calculate_total_months(data[2].split(\":\")[1]))\n",
    "                radiologist.append(data[3].split(\":\")[1].strip().upper())\n",
    "                year_entry.append(year)\n"
   ],
   "metadata": {
    "collapsed": false,
    "ExecuteTime": {
     "end_time": "2023-07-13T08:52:59.819931500Z",
     "start_time": "2023-07-13T08:52:59.781638700Z"
    }
   }
  },
  {
   "cell_type": "code",
   "execution_count": 11,
   "outputs": [
    {
     "data": {
      "text/plain": "      id  age  gender  boneage radiologist  year_entry  \\\n0      1   84       0       72         JSA        2023   \n1      2  112       0       84         JSA        2023   \n2      3   63       1       36         JSA        2023   \n3      4  135       0      132         JSA        2023   \n4      5  154       1      144         JSA        2023   \n..   ...  ...     ...      ...         ...         ...   \n111  112   97       1       84         JSA        2023   \n112  113   76       1       66         JSA        2023   \n113  114  138       1      144         JSA        2023   \n114  115  111       0       84         JSA        2023   \n115  116   97       1       94         JSA        2023   \n\n                                                  path  \n0    data/Mexico_private_dataset/2023\\AGAMI KALACH,...  \n1    data/Mexico_private_dataset/2023\\AGAMI KALACH,...  \n2    data/Mexico_private_dataset/2023\\AGAMI KALACH,...  \n3    data/Mexico_private_dataset/2023\\AGAMI KALACH,...  \n4    data/Mexico_private_dataset/2023\\AGUILAR ALVAR...  \n..                                                 ...  \n111  data/Mexico_private_dataset/2023\\SAADIA DICKTE...  \n112  data/Mexico_private_dataset/2023\\SAADIA DICKTE...  \n113  data/Mexico_private_dataset/2023\\SACAL ROMANO,...  \n114  data/Mexico_private_dataset/2023\\SAINZ GONZALE...  \n115  data/Mexico_private_dataset/2023\\SAINZ GONZALE...  \n\n[116 rows x 7 columns]",
      "text/html": "<div>\n<style scoped>\n    .dataframe tbody tr th:only-of-type {\n        vertical-align: middle;\n    }\n\n    .dataframe tbody tr th {\n        vertical-align: top;\n    }\n\n    .dataframe thead th {\n        text-align: right;\n    }\n</style>\n<table border=\"1\" class=\"dataframe\">\n  <thead>\n    <tr style=\"text-align: right;\">\n      <th></th>\n      <th>id</th>\n      <th>age</th>\n      <th>gender</th>\n      <th>boneage</th>\n      <th>radiologist</th>\n      <th>year_entry</th>\n      <th>path</th>\n    </tr>\n  </thead>\n  <tbody>\n    <tr>\n      <th>0</th>\n      <td>1</td>\n      <td>84</td>\n      <td>0</td>\n      <td>72</td>\n      <td>JSA</td>\n      <td>2023</td>\n      <td>data/Mexico_private_dataset/2023\\AGAMI KALACH,...</td>\n    </tr>\n    <tr>\n      <th>1</th>\n      <td>2</td>\n      <td>112</td>\n      <td>0</td>\n      <td>84</td>\n      <td>JSA</td>\n      <td>2023</td>\n      <td>data/Mexico_private_dataset/2023\\AGAMI KALACH,...</td>\n    </tr>\n    <tr>\n      <th>2</th>\n      <td>3</td>\n      <td>63</td>\n      <td>1</td>\n      <td>36</td>\n      <td>JSA</td>\n      <td>2023</td>\n      <td>data/Mexico_private_dataset/2023\\AGAMI KALACH,...</td>\n    </tr>\n    <tr>\n      <th>3</th>\n      <td>4</td>\n      <td>135</td>\n      <td>0</td>\n      <td>132</td>\n      <td>JSA</td>\n      <td>2023</td>\n      <td>data/Mexico_private_dataset/2023\\AGAMI KALACH,...</td>\n    </tr>\n    <tr>\n      <th>4</th>\n      <td>5</td>\n      <td>154</td>\n      <td>1</td>\n      <td>144</td>\n      <td>JSA</td>\n      <td>2023</td>\n      <td>data/Mexico_private_dataset/2023\\AGUILAR ALVAR...</td>\n    </tr>\n    <tr>\n      <th>...</th>\n      <td>...</td>\n      <td>...</td>\n      <td>...</td>\n      <td>...</td>\n      <td>...</td>\n      <td>...</td>\n      <td>...</td>\n    </tr>\n    <tr>\n      <th>111</th>\n      <td>112</td>\n      <td>97</td>\n      <td>1</td>\n      <td>84</td>\n      <td>JSA</td>\n      <td>2023</td>\n      <td>data/Mexico_private_dataset/2023\\SAADIA DICKTE...</td>\n    </tr>\n    <tr>\n      <th>112</th>\n      <td>113</td>\n      <td>76</td>\n      <td>1</td>\n      <td>66</td>\n      <td>JSA</td>\n      <td>2023</td>\n      <td>data/Mexico_private_dataset/2023\\SAADIA DICKTE...</td>\n    </tr>\n    <tr>\n      <th>113</th>\n      <td>114</td>\n      <td>138</td>\n      <td>1</td>\n      <td>144</td>\n      <td>JSA</td>\n      <td>2023</td>\n      <td>data/Mexico_private_dataset/2023\\SACAL ROMANO,...</td>\n    </tr>\n    <tr>\n      <th>114</th>\n      <td>115</td>\n      <td>111</td>\n      <td>0</td>\n      <td>84</td>\n      <td>JSA</td>\n      <td>2023</td>\n      <td>data/Mexico_private_dataset/2023\\SAINZ GONZALE...</td>\n    </tr>\n    <tr>\n      <th>115</th>\n      <td>116</td>\n      <td>97</td>\n      <td>1</td>\n      <td>94</td>\n      <td>JSA</td>\n      <td>2023</td>\n      <td>data/Mexico_private_dataset/2023\\SAINZ GONZALE...</td>\n    </tr>\n  </tbody>\n</table>\n<p>116 rows × 7 columns</p>\n</div>"
     },
     "execution_count": 11,
     "metadata": {},
     "output_type": "execute_result"
    }
   ],
   "source": [
    "mexico_data"
   ],
   "metadata": {
    "collapsed": false,
    "ExecuteTime": {
     "end_time": "2023-07-13T08:54:08.364577900Z",
     "start_time": "2023-07-13T08:54:08.339222300Z"
    }
   }
  },
  {
   "cell_type": "code",
   "execution_count": 6,
   "outputs": [],
   "source": [
    "mexico_data = pd.DataFrame(data=zip(id_, age, gender, bage, radiologist, year_entry, paths),\n",
    "                           columns=['id','age', 'gender', 'boneage', 'radiologist', 'year_entry', 'path'])"
   ],
   "metadata": {
    "collapsed": false,
    "ExecuteTime": {
     "end_time": "2023-07-13T08:53:11.520509200Z",
     "start_time": "2023-07-13T08:53:11.507995500Z"
    }
   }
  },
  {
   "cell_type": "code",
   "execution_count": 12,
   "outputs": [],
   "source": [
    "mexico_data.dropna(inplace=True)\n",
    "mexico_data['gender'] = mexico_data.gender.astype(int)"
   ],
   "metadata": {
    "collapsed": false,
    "ExecuteTime": {
     "end_time": "2023-07-13T08:54:57.686273900Z",
     "start_time": "2023-07-13T08:54:57.677440Z"
    }
   }
  },
  {
   "cell_type": "code",
   "execution_count": 15,
   "outputs": [
    {
     "data": {
      "text/plain": "      id  age  gender  boneage radiologist  year_entry  \\\n0      1   84       0       72         JSA        2023   \n1      2  112       0       84         JSA        2023   \n2      3   63       1       36         JSA        2023   \n3      4  135       0      132         JSA        2023   \n4      5  154       1      144         JSA        2023   \n..   ...  ...     ...      ...         ...         ...   \n111  112   97       1       84         JSA        2023   \n112  113   76       1       66         JSA        2023   \n113  114  138       1      144         JSA        2023   \n114  115  111       0       84         JSA        2023   \n115  116   97       1       94         JSA        2023   \n\n                                                  path  \n0    data/Mexico_private_dataset/2023\\AGAMI KALACH,...  \n1    data/Mexico_private_dataset/2023\\AGAMI KALACH,...  \n2    data/Mexico_private_dataset/2023\\AGAMI KALACH,...  \n3    data/Mexico_private_dataset/2023\\AGAMI KALACH,...  \n4    data/Mexico_private_dataset/2023\\AGUILAR ALVAR...  \n..                                                 ...  \n111  data/Mexico_private_dataset/2023\\SAADIA DICKTE...  \n112  data/Mexico_private_dataset/2023\\SAADIA DICKTE...  \n113  data/Mexico_private_dataset/2023\\SACAL ROMANO,...  \n114  data/Mexico_private_dataset/2023\\SAINZ GONZALE...  \n115  data/Mexico_private_dataset/2023\\SAINZ GONZALE...  \n\n[116 rows x 7 columns]",
      "text/html": "<div>\n<style scoped>\n    .dataframe tbody tr th:only-of-type {\n        vertical-align: middle;\n    }\n\n    .dataframe tbody tr th {\n        vertical-align: top;\n    }\n\n    .dataframe thead th {\n        text-align: right;\n    }\n</style>\n<table border=\"1\" class=\"dataframe\">\n  <thead>\n    <tr style=\"text-align: right;\">\n      <th></th>\n      <th>id</th>\n      <th>age</th>\n      <th>gender</th>\n      <th>boneage</th>\n      <th>radiologist</th>\n      <th>year_entry</th>\n      <th>path</th>\n    </tr>\n  </thead>\n  <tbody>\n    <tr>\n      <th>0</th>\n      <td>1</td>\n      <td>84</td>\n      <td>0</td>\n      <td>72</td>\n      <td>JSA</td>\n      <td>2023</td>\n      <td>data/Mexico_private_dataset/2023\\AGAMI KALACH,...</td>\n    </tr>\n    <tr>\n      <th>1</th>\n      <td>2</td>\n      <td>112</td>\n      <td>0</td>\n      <td>84</td>\n      <td>JSA</td>\n      <td>2023</td>\n      <td>data/Mexico_private_dataset/2023\\AGAMI KALACH,...</td>\n    </tr>\n    <tr>\n      <th>2</th>\n      <td>3</td>\n      <td>63</td>\n      <td>1</td>\n      <td>36</td>\n      <td>JSA</td>\n      <td>2023</td>\n      <td>data/Mexico_private_dataset/2023\\AGAMI KALACH,...</td>\n    </tr>\n    <tr>\n      <th>3</th>\n      <td>4</td>\n      <td>135</td>\n      <td>0</td>\n      <td>132</td>\n      <td>JSA</td>\n      <td>2023</td>\n      <td>data/Mexico_private_dataset/2023\\AGAMI KALACH,...</td>\n    </tr>\n    <tr>\n      <th>4</th>\n      <td>5</td>\n      <td>154</td>\n      <td>1</td>\n      <td>144</td>\n      <td>JSA</td>\n      <td>2023</td>\n      <td>data/Mexico_private_dataset/2023\\AGUILAR ALVAR...</td>\n    </tr>\n    <tr>\n      <th>...</th>\n      <td>...</td>\n      <td>...</td>\n      <td>...</td>\n      <td>...</td>\n      <td>...</td>\n      <td>...</td>\n      <td>...</td>\n    </tr>\n    <tr>\n      <th>111</th>\n      <td>112</td>\n      <td>97</td>\n      <td>1</td>\n      <td>84</td>\n      <td>JSA</td>\n      <td>2023</td>\n      <td>data/Mexico_private_dataset/2023\\SAADIA DICKTE...</td>\n    </tr>\n    <tr>\n      <th>112</th>\n      <td>113</td>\n      <td>76</td>\n      <td>1</td>\n      <td>66</td>\n      <td>JSA</td>\n      <td>2023</td>\n      <td>data/Mexico_private_dataset/2023\\SAADIA DICKTE...</td>\n    </tr>\n    <tr>\n      <th>113</th>\n      <td>114</td>\n      <td>138</td>\n      <td>1</td>\n      <td>144</td>\n      <td>JSA</td>\n      <td>2023</td>\n      <td>data/Mexico_private_dataset/2023\\SACAL ROMANO,...</td>\n    </tr>\n    <tr>\n      <th>114</th>\n      <td>115</td>\n      <td>111</td>\n      <td>0</td>\n      <td>84</td>\n      <td>JSA</td>\n      <td>2023</td>\n      <td>data/Mexico_private_dataset/2023\\SAINZ GONZALE...</td>\n    </tr>\n    <tr>\n      <th>115</th>\n      <td>116</td>\n      <td>97</td>\n      <td>1</td>\n      <td>94</td>\n      <td>JSA</td>\n      <td>2023</td>\n      <td>data/Mexico_private_dataset/2023\\SAINZ GONZALE...</td>\n    </tr>\n  </tbody>\n</table>\n<p>116 rows × 7 columns</p>\n</div>"
     },
     "execution_count": 15,
     "metadata": {},
     "output_type": "execute_result"
    }
   ],
   "source": [
    "mexico_data"
   ],
   "metadata": {
    "collapsed": false,
    "ExecuteTime": {
     "end_time": "2023-07-13T08:57:00.067680200Z",
     "start_time": "2023-07-13T08:57:00.054425500Z"
    }
   }
  },
  {
   "cell_type": "code",
   "execution_count": 14,
   "outputs": [],
   "source": [
    "# save pandas df as csv without index\n",
    "mexico_data.to_csv(\"./data/Mexico_private_dataset/mexico_additional_data.csv\", index=False)"
   ],
   "metadata": {
    "collapsed": false,
    "ExecuteTime": {
     "end_time": "2023-07-13T08:55:06.286316200Z",
     "start_time": "2023-07-13T08:55:06.251891900Z"
    }
   }
  },
  {
   "cell_type": "markdown",
   "source": [
    "### Run the SAM model and continue from here"
   ],
   "metadata": {
    "collapsed": false
   }
  },
  {
   "cell_type": "code",
   "execution_count": 16,
   "outputs": [
    {
     "data": {
      "text/plain": "      id  age  gender  boneage radiologist  year_entry  \\\n0      1   84       0       72         JSA        2023   \n1      2  112       0       84         JSA        2023   \n2      3   63       1       36         JSA        2023   \n3      4  135       0      132         JSA        2023   \n4      5  154       1      144         JSA        2023   \n..   ...  ...     ...      ...         ...         ...   \n111  112   97       1       84         JSA        2023   \n112  113   76       1       66         JSA        2023   \n113  114  138       1      144         JSA        2023   \n114  115  111       0       84         JSA        2023   \n115  116   97       1       94         JSA        2023   \n\n                                                  path  \n0    data/Mexico_private_dataset/2023\\AGAMI KALACH,...  \n1    data/Mexico_private_dataset/2023\\AGAMI KALACH,...  \n2    data/Mexico_private_dataset/2023\\AGAMI KALACH,...  \n3    data/Mexico_private_dataset/2023\\AGAMI KALACH,...  \n4    data/Mexico_private_dataset/2023\\AGUILAR ALVAR...  \n..                                                 ...  \n111  data/Mexico_private_dataset/2023\\SAADIA DICKTE...  \n112  data/Mexico_private_dataset/2023\\SAADIA DICKTE...  \n113  data/Mexico_private_dataset/2023\\SACAL ROMANO,...  \n114  data/Mexico_private_dataset/2023\\SAINZ GONZALE...  \n115  data/Mexico_private_dataset/2023\\SAINZ GONZALE...  \n\n[116 rows x 7 columns]",
      "text/html": "<div>\n<style scoped>\n    .dataframe tbody tr th:only-of-type {\n        vertical-align: middle;\n    }\n\n    .dataframe tbody tr th {\n        vertical-align: top;\n    }\n\n    .dataframe thead th {\n        text-align: right;\n    }\n</style>\n<table border=\"1\" class=\"dataframe\">\n  <thead>\n    <tr style=\"text-align: right;\">\n      <th></th>\n      <th>id</th>\n      <th>age</th>\n      <th>gender</th>\n      <th>boneage</th>\n      <th>radiologist</th>\n      <th>year_entry</th>\n      <th>path</th>\n    </tr>\n  </thead>\n  <tbody>\n    <tr>\n      <th>0</th>\n      <td>1</td>\n      <td>84</td>\n      <td>0</td>\n      <td>72</td>\n      <td>JSA</td>\n      <td>2023</td>\n      <td>data/Mexico_private_dataset/2023\\AGAMI KALACH,...</td>\n    </tr>\n    <tr>\n      <th>1</th>\n      <td>2</td>\n      <td>112</td>\n      <td>0</td>\n      <td>84</td>\n      <td>JSA</td>\n      <td>2023</td>\n      <td>data/Mexico_private_dataset/2023\\AGAMI KALACH,...</td>\n    </tr>\n    <tr>\n      <th>2</th>\n      <td>3</td>\n      <td>63</td>\n      <td>1</td>\n      <td>36</td>\n      <td>JSA</td>\n      <td>2023</td>\n      <td>data/Mexico_private_dataset/2023\\AGAMI KALACH,...</td>\n    </tr>\n    <tr>\n      <th>3</th>\n      <td>4</td>\n      <td>135</td>\n      <td>0</td>\n      <td>132</td>\n      <td>JSA</td>\n      <td>2023</td>\n      <td>data/Mexico_private_dataset/2023\\AGAMI KALACH,...</td>\n    </tr>\n    <tr>\n      <th>4</th>\n      <td>5</td>\n      <td>154</td>\n      <td>1</td>\n      <td>144</td>\n      <td>JSA</td>\n      <td>2023</td>\n      <td>data/Mexico_private_dataset/2023\\AGUILAR ALVAR...</td>\n    </tr>\n    <tr>\n      <th>...</th>\n      <td>...</td>\n      <td>...</td>\n      <td>...</td>\n      <td>...</td>\n      <td>...</td>\n      <td>...</td>\n      <td>...</td>\n    </tr>\n    <tr>\n      <th>111</th>\n      <td>112</td>\n      <td>97</td>\n      <td>1</td>\n      <td>84</td>\n      <td>JSA</td>\n      <td>2023</td>\n      <td>data/Mexico_private_dataset/2023\\SAADIA DICKTE...</td>\n    </tr>\n    <tr>\n      <th>112</th>\n      <td>113</td>\n      <td>76</td>\n      <td>1</td>\n      <td>66</td>\n      <td>JSA</td>\n      <td>2023</td>\n      <td>data/Mexico_private_dataset/2023\\SAADIA DICKTE...</td>\n    </tr>\n    <tr>\n      <th>113</th>\n      <td>114</td>\n      <td>138</td>\n      <td>1</td>\n      <td>144</td>\n      <td>JSA</td>\n      <td>2023</td>\n      <td>data/Mexico_private_dataset/2023\\SACAL ROMANO,...</td>\n    </tr>\n    <tr>\n      <th>114</th>\n      <td>115</td>\n      <td>111</td>\n      <td>0</td>\n      <td>84</td>\n      <td>JSA</td>\n      <td>2023</td>\n      <td>data/Mexico_private_dataset/2023\\SAINZ GONZALE...</td>\n    </tr>\n    <tr>\n      <th>115</th>\n      <td>116</td>\n      <td>97</td>\n      <td>1</td>\n      <td>94</td>\n      <td>JSA</td>\n      <td>2023</td>\n      <td>data/Mexico_private_dataset/2023\\SAINZ GONZALE...</td>\n    </tr>\n  </tbody>\n</table>\n<p>116 rows × 7 columns</p>\n</div>"
     },
     "execution_count": 16,
     "metadata": {},
     "output_type": "execute_result"
    }
   ],
   "source": [
    "mexico_data"
   ],
   "metadata": {
    "collapsed": false,
    "ExecuteTime": {
     "end_time": "2023-07-13T11:57:50.974061Z",
     "start_time": "2023-07-13T11:57:50.910017900Z"
    }
   }
  },
  {
   "cell_type": "code",
   "execution_count": 17,
   "outputs": [],
   "source": [
    "mexico_data['path'] = mexico_data['id'].map(lambda x: os.path.join(\"data\",\n",
    "                                                         \"Mexico_private_dataset\",\n",
    "                                                         'additional',\n",
    "                                                         '{}.png'.format(x)))"
   ],
   "metadata": {
    "collapsed": false,
    "ExecuteTime": {
     "end_time": "2023-07-13T11:58:21.168652500Z",
     "start_time": "2023-07-13T11:58:21.154673100Z"
    }
   }
  },
  {
   "cell_type": "code",
   "execution_count": 18,
   "outputs": [
    {
     "data": {
      "text/plain": "      id  age  gender  boneage radiologist  year_entry  \\\n0      1   84       0       72         JSA        2023   \n1      2  112       0       84         JSA        2023   \n2      3   63       1       36         JSA        2023   \n3      4  135       0      132         JSA        2023   \n4      5  154       1      144         JSA        2023   \n..   ...  ...     ...      ...         ...         ...   \n111  112   97       1       84         JSA        2023   \n112  113   76       1       66         JSA        2023   \n113  114  138       1      144         JSA        2023   \n114  115  111       0       84         JSA        2023   \n115  116   97       1       94         JSA        2023   \n\n                                               path  \n0      data\\Mexico_private_dataset\\additional\\1.png  \n1      data\\Mexico_private_dataset\\additional\\2.png  \n2      data\\Mexico_private_dataset\\additional\\3.png  \n3      data\\Mexico_private_dataset\\additional\\4.png  \n4      data\\Mexico_private_dataset\\additional\\5.png  \n..                                              ...  \n111  data\\Mexico_private_dataset\\additional\\112.png  \n112  data\\Mexico_private_dataset\\additional\\113.png  \n113  data\\Mexico_private_dataset\\additional\\114.png  \n114  data\\Mexico_private_dataset\\additional\\115.png  \n115  data\\Mexico_private_dataset\\additional\\116.png  \n\n[116 rows x 7 columns]",
      "text/html": "<div>\n<style scoped>\n    .dataframe tbody tr th:only-of-type {\n        vertical-align: middle;\n    }\n\n    .dataframe tbody tr th {\n        vertical-align: top;\n    }\n\n    .dataframe thead th {\n        text-align: right;\n    }\n</style>\n<table border=\"1\" class=\"dataframe\">\n  <thead>\n    <tr style=\"text-align: right;\">\n      <th></th>\n      <th>id</th>\n      <th>age</th>\n      <th>gender</th>\n      <th>boneage</th>\n      <th>radiologist</th>\n      <th>year_entry</th>\n      <th>path</th>\n    </tr>\n  </thead>\n  <tbody>\n    <tr>\n      <th>0</th>\n      <td>1</td>\n      <td>84</td>\n      <td>0</td>\n      <td>72</td>\n      <td>JSA</td>\n      <td>2023</td>\n      <td>data\\Mexico_private_dataset\\additional\\1.png</td>\n    </tr>\n    <tr>\n      <th>1</th>\n      <td>2</td>\n      <td>112</td>\n      <td>0</td>\n      <td>84</td>\n      <td>JSA</td>\n      <td>2023</td>\n      <td>data\\Mexico_private_dataset\\additional\\2.png</td>\n    </tr>\n    <tr>\n      <th>2</th>\n      <td>3</td>\n      <td>63</td>\n      <td>1</td>\n      <td>36</td>\n      <td>JSA</td>\n      <td>2023</td>\n      <td>data\\Mexico_private_dataset\\additional\\3.png</td>\n    </tr>\n    <tr>\n      <th>3</th>\n      <td>4</td>\n      <td>135</td>\n      <td>0</td>\n      <td>132</td>\n      <td>JSA</td>\n      <td>2023</td>\n      <td>data\\Mexico_private_dataset\\additional\\4.png</td>\n    </tr>\n    <tr>\n      <th>4</th>\n      <td>5</td>\n      <td>154</td>\n      <td>1</td>\n      <td>144</td>\n      <td>JSA</td>\n      <td>2023</td>\n      <td>data\\Mexico_private_dataset\\additional\\5.png</td>\n    </tr>\n    <tr>\n      <th>...</th>\n      <td>...</td>\n      <td>...</td>\n      <td>...</td>\n      <td>...</td>\n      <td>...</td>\n      <td>...</td>\n      <td>...</td>\n    </tr>\n    <tr>\n      <th>111</th>\n      <td>112</td>\n      <td>97</td>\n      <td>1</td>\n      <td>84</td>\n      <td>JSA</td>\n      <td>2023</td>\n      <td>data\\Mexico_private_dataset\\additional\\112.png</td>\n    </tr>\n    <tr>\n      <th>112</th>\n      <td>113</td>\n      <td>76</td>\n      <td>1</td>\n      <td>66</td>\n      <td>JSA</td>\n      <td>2023</td>\n      <td>data\\Mexico_private_dataset\\additional\\113.png</td>\n    </tr>\n    <tr>\n      <th>113</th>\n      <td>114</td>\n      <td>138</td>\n      <td>1</td>\n      <td>144</td>\n      <td>JSA</td>\n      <td>2023</td>\n      <td>data\\Mexico_private_dataset\\additional\\114.png</td>\n    </tr>\n    <tr>\n      <th>114</th>\n      <td>115</td>\n      <td>111</td>\n      <td>0</td>\n      <td>84</td>\n      <td>JSA</td>\n      <td>2023</td>\n      <td>data\\Mexico_private_dataset\\additional\\115.png</td>\n    </tr>\n    <tr>\n      <th>115</th>\n      <td>116</td>\n      <td>97</td>\n      <td>1</td>\n      <td>94</td>\n      <td>JSA</td>\n      <td>2023</td>\n      <td>data\\Mexico_private_dataset\\additional\\116.png</td>\n    </tr>\n  </tbody>\n</table>\n<p>116 rows × 7 columns</p>\n</div>"
     },
     "execution_count": 18,
     "metadata": {},
     "output_type": "execute_result"
    }
   ],
   "source": [
    "mexico_data"
   ],
   "metadata": {
    "collapsed": false,
    "ExecuteTime": {
     "end_time": "2023-07-13T11:58:22.047640100Z",
     "start_time": "2023-07-13T11:58:22.031504300Z"
    }
   }
  },
  {
   "cell_type": "code",
   "execution_count": 19,
   "outputs": [
    {
     "data": {
      "text/plain": "gender\n1    61\n0    55\nName: count, dtype: int64"
     },
     "execution_count": 19,
     "metadata": {},
     "output_type": "execute_result"
    }
   ],
   "source": [
    "mexico_data.gender.value_counts()"
   ],
   "metadata": {
    "collapsed": false,
    "ExecuteTime": {
     "end_time": "2023-07-13T11:58:27.261742600Z",
     "start_time": "2023-07-13T11:58:27.236268900Z"
    }
   }
  },
  {
   "cell_type": "code",
   "execution_count": 20,
   "outputs": [
    {
     "name": "stdout",
     "output_type": "stream",
     "text": [
      "108 images found of 116 total\n"
     ]
    }
   ],
   "source": [
    "# Checking if all the images exist\n",
    "mexico_data['exists'] = mexico_data['path'].map(os.path.exists)\n",
    "print(mexico_data['exists'].sum(), 'images found of', mexico_data.shape[0], 'total')"
   ],
   "metadata": {
    "collapsed": false,
    "ExecuteTime": {
     "end_time": "2023-07-13T11:58:30.204019Z",
     "start_time": "2023-07-13T11:58:30.158907300Z"
    }
   }
  },
  {
   "cell_type": "code",
   "execution_count": 21,
   "outputs": [],
   "source": [
    "# Drop row if exist column is false does not exist\n",
    "mexico_data = mexico_data[mexico_data['exists']]"
   ],
   "metadata": {
    "collapsed": false,
    "ExecuteTime": {
     "end_time": "2023-07-13T11:58:37.192817500Z",
     "start_time": "2023-07-13T11:58:37.134831500Z"
    }
   }
  },
  {
   "cell_type": "code",
   "execution_count": 22,
   "outputs": [],
   "source": [
    "mexico_data.to_csv(\"./data/Mexico_private_dataset/mexico_preprocessed_additional.csv\", index=False)\n"
   ],
   "metadata": {
    "collapsed": false,
    "ExecuteTime": {
     "end_time": "2023-07-13T11:58:43.967530Z",
     "start_time": "2023-07-13T11:58:43.953022600Z"
    }
   }
  },
  {
   "cell_type": "code",
   "execution_count": 3,
   "outputs": [],
   "source": [
    "# Train test split 5 fold on mexico_data\n",
    "from sklearn.model_selection import StratifiedKFold\n",
    "skf = StratifiedKFold(n_splits=3, shuffle=True, random_state=42)"
   ],
   "metadata": {
    "collapsed": false,
    "ExecuteTime": {
     "end_time": "2023-07-15T15:51:34.708344100Z",
     "start_time": "2023-07-15T15:51:33.021275500Z"
    }
   }
  },
  {
   "cell_type": "code",
   "execution_count": 5,
   "outputs": [],
   "source": [
    "mexico_data = pd.read_csv(\"./data/Mexico_private_dataset/mexico_complete_dataset.csv\")"
   ],
   "metadata": {
    "collapsed": false,
    "ExecuteTime": {
     "end_time": "2023-07-16T14:33:19.111794100Z",
     "start_time": "2023-07-16T14:33:19.081641700Z"
    }
   }
  },
  {
   "cell_type": "code",
   "execution_count": 6,
   "outputs": [
    {
     "name": "stderr",
     "output_type": "stream",
     "text": [
      "D:\\Installation\\anaconda\\envs\\bone_age_estimation\\lib\\site-packages\\sklearn\\model_selection\\_split.py:700: UserWarning: The least populated class in y has only 1 members, which is less than n_splits=10.\n",
      "  warnings.warn(\n"
     ]
    }
   ],
   "source": [
    "from sklearn.model_selection import StratifiedKFold\n",
    "\n",
    "# Separate the features from the target variable\n",
    "X = mexico_data[['age', 'gender']]\n",
    "y = mexico_data['boneage']\n",
    "\n",
    "# Create an instance of StratifiedKFold with 5 folds\n",
    "skf = StratifiedKFold(n_splits=10, shuffle=True, random_state=42)\n",
    "\n",
    "# Perform the stratified split and print the indices for each fold\n",
    "fold = 1\n",
    "splits = {}\n",
    "for train_index, test_index in skf.split(X, y):\n",
    "    splits[fold] = {}\n",
    "    splits[fold]['train'] = train_index\n",
    "    splits[fold]['val'] = test_index\n",
    "    fold += 1"
   ],
   "metadata": {
    "collapsed": false,
    "ExecuteTime": {
     "end_time": "2023-07-16T14:33:36.327701400Z",
     "start_time": "2023-07-16T14:33:33.406551500Z"
    }
   }
  },
  {
   "cell_type": "code",
   "execution_count": 7,
   "outputs": [],
   "source": [
    "# Save dictionary\n",
    "import pickle\n",
    "with open(\"data/Mexico_private_dataset/splits_10.pkl\", \"wb\") as f:\n",
    "    pickle.dump(splits, f)"
   ],
   "metadata": {
    "collapsed": false,
    "ExecuteTime": {
     "end_time": "2023-07-16T14:33:43.053164400Z",
     "start_time": "2023-07-16T14:33:43.045319100Z"
    }
   }
  },
  {
   "cell_type": "code",
   "execution_count": 8,
   "outputs": [
    {
     "data": {
      "text/plain": "{1: {'train': array([  0,   2,   3,   4,   5,   6,   7,   8,   9,  10,  11,  12,  13,\n          14,  15,  16,  18,  19,  20,  21,  22,  23,  24,  26,  27,  29,\n          30,  31,  32,  33,  35,  36,  37,  38,  39,  40,  41,  42,  43,\n          44,  46,  47,  48,  49,  50,  51,  52,  54,  55,  56,  57,  58,\n          61,  64,  65,  66,  67,  68,  69,  70,  71,  73,  74,  75,  76,\n          77,  78,  79,  80,  81,  82,  83,  84,  86,  87,  88,  89,  90,\n          91,  92,  94,  95,  96,  97,  98,  99, 100, 101, 102, 103, 104,\n         105, 106, 107, 108, 109, 110, 111, 112, 113, 114, 115, 117, 118,\n         119, 120, 121, 122, 123, 124, 125, 126, 127, 128, 129, 130, 131,\n         132, 133, 134, 135, 136, 137, 138, 139, 141, 143, 144, 145, 146,\n         148, 149, 150, 151, 152, 153, 154, 155, 156, 157, 158, 159, 160,\n         161, 162, 163, 164, 165, 167, 169, 170, 171, 173, 174, 175, 176,\n         177, 178, 179, 180, 181, 182, 183, 184, 185, 186, 187, 188, 189,\n         190, 191, 192, 193, 194, 195, 196, 197, 198, 199, 200, 201, 202,\n         203, 204, 205, 206, 207, 208, 209, 210, 211, 212, 213, 214, 215,\n         216, 217, 218, 219, 220, 221, 223, 224, 225, 226, 227, 228, 229,\n         230, 231, 232, 233, 234, 235, 237, 238, 239, 240, 241, 242, 243,\n         244, 245, 246, 247, 248, 249, 250, 251, 252, 254, 255, 256, 257,\n         258, 260, 261, 262, 263, 264, 266, 267, 268, 269, 270, 271, 272,\n         274, 275, 277, 278, 279, 281, 282, 283, 284, 285, 286, 287, 288,\n         290, 292, 293, 294, 295, 296, 298, 299, 301, 302, 303, 304, 305,\n         306, 307, 308, 309, 310, 311, 312, 313, 314, 316, 317, 318, 319,\n         320, 321, 322, 324, 325, 326, 327, 328, 329, 330, 331, 332, 333,\n         334, 335, 336, 337, 338, 339, 340, 341, 343, 344, 345, 347, 348,\n         349, 350, 351, 354, 355, 356, 358, 359, 360, 361, 362, 363, 365,\n         366, 367, 368, 369, 370, 371, 372, 373, 374, 375, 376, 377, 378,\n         379, 380, 381, 382, 383, 384, 385, 386, 387, 388, 389, 390, 391,\n         392, 394, 395, 396, 397, 398, 399, 400, 401, 403, 404, 405, 406,\n         407, 409, 410, 411, 412, 413, 414, 415, 416, 417, 418, 419, 420,\n         421, 422, 423, 424, 425, 426, 428, 429, 430, 431, 432, 433, 434,\n         435, 436, 437, 438, 439, 440, 441, 442, 443, 444, 445, 446, 447,\n         448]),\n  'val': array([  1,  17,  25,  28,  34,  45,  53,  59,  60,  62,  63,  72,  85,\n          93, 116, 140, 142, 147, 166, 168, 172, 222, 236, 253, 259, 265,\n         273, 276, 280, 289, 291, 297, 300, 315, 323, 342, 346, 352, 353,\n         357, 364, 393, 402, 408, 427])},\n 2: {'train': array([  0,   1,   2,   4,   5,   6,   9,  10,  11,  12,  13,  14,  15,\n          16,  17,  18,  19,  20,  22,  23,  24,  25,  26,  27,  28,  29,\n          30,  31,  32,  33,  34,  35,  36,  37,  39,  40,  41,  43,  44,\n          45,  46,  47,  49,  51,  52,  53,  54,  55,  56,  57,  58,  59,\n          60,  61,  62,  63,  64,  67,  68,  69,  70,  71,  72,  73,  74,\n          75,  77,  78,  79,  80,  81,  83,  84,  85,  86,  87,  88,  89,\n          90,  91,  92,  93,  95,  97,  98,  99, 100, 101, 102, 103, 104,\n         105, 106, 107, 108, 109, 110, 112, 113, 114, 115, 116, 117, 118,\n         119, 120, 122, 123, 124, 125, 126, 129, 130, 131, 132, 133, 135,\n         136, 137, 138, 139, 140, 141, 142, 143, 144, 145, 146, 147, 148,\n         149, 150, 151, 152, 153, 154, 155, 156, 158, 160, 161, 162, 163,\n         164, 165, 166, 167, 168, 169, 170, 171, 172, 173, 174, 175, 176,\n         177, 178, 179, 180, 181, 182, 183, 184, 185, 186, 188, 189, 190,\n         191, 192, 193, 194, 196, 198, 199, 200, 201, 202, 203, 204, 205,\n         206, 207, 208, 209, 210, 211, 213, 214, 215, 216, 217, 219, 220,\n         221, 222, 223, 224, 225, 226, 227, 228, 229, 230, 231, 232, 234,\n         235, 236, 237, 238, 239, 240, 241, 242, 243, 244, 245, 246, 247,\n         248, 249, 250, 251, 252, 253, 254, 255, 256, 257, 259, 261, 262,\n         263, 264, 265, 266, 269, 270, 271, 272, 273, 274, 275, 276, 277,\n         278, 279, 280, 281, 282, 283, 284, 285, 286, 287, 288, 289, 290,\n         291, 292, 293, 294, 295, 296, 297, 298, 299, 300, 301, 302, 303,\n         304, 305, 306, 307, 308, 309, 310, 311, 312, 313, 314, 315, 316,\n         317, 318, 320, 321, 322, 323, 324, 325, 326, 327, 328, 329, 330,\n         332, 333, 334, 335, 336, 337, 338, 339, 340, 341, 342, 343, 344,\n         345, 346, 347, 348, 349, 350, 351, 352, 353, 354, 355, 356, 357,\n         358, 360, 361, 362, 363, 364, 365, 366, 367, 368, 369, 371, 372,\n         373, 374, 375, 377, 378, 379, 380, 381, 382, 383, 384, 385, 386,\n         387, 388, 390, 392, 393, 395, 397, 398, 399, 400, 401, 402, 403,\n         404, 406, 407, 408, 409, 410, 412, 413, 414, 415, 417, 418, 419,\n         420, 421, 422, 423, 424, 425, 426, 427, 428, 429, 430, 432, 433,\n         434, 435, 436, 437, 438, 439, 440, 441, 443, 444, 445, 446, 447,\n         448]),\n  'val': array([  3,   7,   8,  21,  38,  42,  48,  50,  65,  66,  76,  82,  94,\n          96, 111, 121, 127, 128, 134, 157, 159, 187, 195, 197, 212, 218,\n         233, 258, 260, 267, 268, 319, 331, 359, 370, 376, 389, 391, 394,\n         396, 405, 411, 416, 431, 442])},\n 3: {'train': array([  0,   1,   2,   3,   5,   7,   8,   9,  10,  11,  13,  15,  16,\n          17,  19,  20,  21,  22,  23,  24,  25,  26,  27,  28,  29,  31,\n          32,  33,  34,  35,  36,  37,  38,  39,  40,  41,  42,  43,  44,\n          45,  46,  47,  48,  49,  50,  51,  52,  53,  54,  55,  56,  57,\n          59,  60,  61,  62,  63,  65,  66,  67,  68,  69,  70,  71,  72,\n          74,  75,  76,  77,  78,  79,  80,  81,  82,  83,  84,  85,  86,\n          87,  88,  89,  91,  92,  93,  94,  95,  96,  97,  98, 100, 101,\n         103, 104, 105, 106, 108, 110, 111, 112, 113, 114, 115, 116, 117,\n         118, 119, 120, 121, 122, 123, 124, 125, 126, 127, 128, 129, 130,\n         131, 132, 133, 134, 135, 136, 138, 139, 140, 141, 142, 143, 144,\n         145, 146, 147, 151, 152, 153, 154, 155, 156, 157, 158, 159, 160,\n         161, 162, 163, 164, 165, 166, 167, 168, 169, 170, 171, 172, 173,\n         175, 176, 178, 179, 180, 181, 182, 183, 184, 185, 186, 187, 188,\n         189, 190, 191, 192, 193, 194, 195, 196, 197, 199, 201, 202, 203,\n         204, 206, 207, 208, 209, 210, 211, 212, 213, 214, 215, 216, 217,\n         218, 219, 220, 221, 222, 223, 224, 225, 226, 227, 228, 229, 230,\n         232, 233, 235, 236, 237, 238, 239, 240, 241, 243, 244, 246, 247,\n         248, 249, 250, 251, 252, 253, 255, 256, 257, 258, 259, 260, 261,\n         262, 263, 264, 265, 266, 267, 268, 269, 270, 271, 272, 273, 274,\n         275, 276, 277, 279, 280, 281, 283, 284, 285, 286, 287, 288, 289,\n         290, 291, 292, 293, 294, 295, 296, 297, 298, 299, 300, 301, 302,\n         305, 306, 307, 308, 309, 311, 312, 313, 314, 315, 316, 317, 318,\n         319, 320, 321, 322, 323, 324, 325, 326, 328, 329, 330, 331, 332,\n         333, 334, 335, 336, 337, 338, 339, 340, 341, 342, 343, 344, 345,\n         346, 347, 348, 349, 350, 351, 352, 353, 354, 355, 356, 357, 359,\n         360, 363, 364, 365, 366, 367, 368, 369, 370, 371, 372, 373, 374,\n         375, 376, 377, 378, 379, 380, 381, 382, 383, 385, 386, 387, 388,\n         389, 390, 391, 392, 393, 394, 395, 396, 398, 399, 400, 401, 402,\n         403, 404, 405, 407, 408, 409, 410, 411, 412, 413, 414, 416, 417,\n         418, 419, 421, 422, 423, 424, 425, 426, 427, 428, 429, 430, 431,\n         432, 433, 435, 436, 437, 438, 439, 441, 442, 443, 444, 445, 446,\n         448]),\n  'val': array([  4,   6,  12,  14,  18,  30,  58,  64,  73,  90,  99, 102, 107,\n         109, 137, 148, 149, 150, 174, 177, 198, 200, 205, 231, 234, 242,\n         245, 254, 278, 282, 303, 304, 310, 327, 358, 361, 362, 384, 397,\n         406, 415, 420, 434, 440, 447])},\n 4: {'train': array([  0,   1,   2,   3,   4,   5,   6,   7,   8,   9,  10,  11,  12,\n          13,  14,  15,  16,  17,  18,  19,  20,  21,  22,  23,  24,  25,\n          26,  27,  28,  29,  30,  31,  32,  33,  34,  36,  37,  38,  39,\n          40,  41,  42,  43,  44,  45,  47,  48,  49,  50,  51,  52,  53,\n          54,  55,  57,  58,  59,  60,  61,  62,  63,  64,  65,  66,  68,\n          69,  70,  71,  72,  73,  74,  75,  76,  79,  80,  81,  82,  83,\n          84,  85,  86,  87,  88,  89,  90,  91,  92,  93,  94,  95,  96,\n          98,  99, 100, 101, 102, 103, 105, 106, 107, 108, 109, 110, 111,\n         112, 113, 114, 116, 117, 118, 121, 122, 123, 124, 125, 126, 127,\n         128, 129, 130, 131, 132, 133, 134, 135, 137, 138, 139, 140, 142,\n         143, 144, 145, 146, 147, 148, 149, 150, 152, 153, 154, 155, 156,\n         157, 158, 159, 160, 161, 162, 163, 164, 165, 166, 167, 168, 170,\n         171, 172, 173, 174, 175, 176, 177, 179, 180, 182, 183, 184, 185,\n         187, 188, 189, 190, 191, 192, 194, 195, 196, 197, 198, 199, 200,\n         201, 202, 203, 205, 206, 207, 208, 209, 210, 211, 212, 213, 215,\n         217, 218, 219, 220, 222, 224, 225, 226, 227, 228, 229, 231, 232,\n         233, 234, 236, 237, 238, 240, 241, 242, 243, 244, 245, 246, 247,\n         248, 249, 250, 251, 252, 253, 254, 255, 256, 257, 258, 259, 260,\n         261, 262, 264, 265, 267, 268, 269, 270, 271, 272, 273, 274, 275,\n         276, 277, 278, 280, 281, 282, 283, 284, 285, 286, 287, 288, 289,\n         290, 291, 292, 293, 294, 295, 296, 297, 298, 299, 300, 301, 302,\n         303, 304, 305, 306, 307, 308, 309, 310, 311, 312, 313, 315, 316,\n         317, 318, 319, 321, 322, 323, 324, 325, 326, 327, 328, 329, 330,\n         331, 332, 333, 334, 335, 336, 337, 339, 340, 341, 342, 343, 344,\n         345, 346, 347, 348, 349, 350, 351, 352, 353, 354, 355, 356, 357,\n         358, 359, 360, 361, 362, 363, 364, 366, 368, 370, 371, 372, 373,\n         374, 375, 376, 377, 378, 379, 381, 382, 383, 384, 385, 386, 387,\n         388, 389, 390, 391, 393, 394, 395, 396, 397, 398, 399, 400, 401,\n         402, 403, 404, 405, 406, 407, 408, 410, 411, 412, 413, 414, 415,\n         416, 418, 419, 420, 422, 423, 426, 427, 428, 429, 430, 431, 432,\n         433, 434, 435, 436, 438, 439, 440, 441, 442, 443, 445, 446, 447,\n         448]),\n  'val': array([ 35,  46,  56,  67,  77,  78,  97, 104, 115, 119, 120, 136, 141,\n         151, 169, 178, 181, 186, 193, 204, 214, 216, 221, 223, 230, 235,\n         239, 263, 266, 279, 314, 320, 338, 365, 367, 369, 380, 392, 409,\n         417, 421, 424, 425, 437, 444])},\n 5: {'train': array([  0,   1,   2,   3,   4,   5,   6,   7,   8,   9,  10,  12,  13,\n          14,  15,  17,  18,  19,  20,  21,  22,  23,  24,  25,  26,  27,\n          28,  30,  31,  32,  33,  34,  35,  36,  37,  38,  39,  40,  41,\n          42,  43,  44,  45,  46,  48,  50,  52,  53,  54,  56,  57,  58,\n          59,  60,  61,  62,  63,  64,  65,  66,  67,  70,  71,  72,  73,\n          74,  75,  76,  77,  78,  79,  80,  81,  82,  84,  85,  87,  88,\n          90,  91,  93,  94,  95,  96,  97,  98,  99, 100, 101, 102, 103,\n         104, 105, 106, 107, 108, 109, 110, 111, 112, 113, 114, 115, 116,\n         117, 118, 119, 120, 121, 122, 123, 124, 125, 126, 127, 128, 129,\n         130, 131, 132, 134, 135, 136, 137, 138, 139, 140, 141, 142, 143,\n         145, 146, 147, 148, 149, 150, 151, 152, 153, 154, 155, 156, 157,\n         158, 159, 160, 162, 163, 164, 165, 166, 167, 168, 169, 170, 172,\n         173, 174, 177, 178, 179, 180, 181, 182, 184, 185, 186, 187, 188,\n         189, 190, 193, 194, 195, 196, 197, 198, 199, 200, 201, 204, 205,\n         206, 207, 208, 209, 210, 211, 212, 213, 214, 215, 216, 217, 218,\n         219, 220, 221, 222, 223, 225, 226, 227, 228, 229, 230, 231, 232,\n         233, 234, 235, 236, 238, 239, 240, 241, 242, 243, 245, 246, 247,\n         248, 250, 252, 253, 254, 255, 256, 258, 259, 260, 261, 262, 263,\n         264, 265, 266, 267, 268, 269, 270, 272, 273, 274, 275, 276, 277,\n         278, 279, 280, 281, 282, 283, 284, 285, 286, 287, 288, 289, 291,\n         292, 293, 294, 295, 296, 297, 298, 300, 301, 302, 303, 304, 305,\n         306, 307, 308, 309, 310, 311, 312, 313, 314, 315, 316, 317, 318,\n         319, 320, 321, 323, 324, 325, 326, 327, 328, 329, 330, 331, 332,\n         333, 335, 336, 337, 338, 339, 340, 341, 342, 343, 344, 346, 347,\n         349, 350, 351, 352, 353, 354, 355, 356, 357, 358, 359, 360, 361,\n         362, 363, 364, 365, 366, 367, 369, 370, 371, 372, 373, 374, 375,\n         376, 377, 378, 379, 380, 381, 382, 383, 384, 385, 386, 387, 389,\n         390, 391, 392, 393, 394, 395, 396, 397, 398, 399, 400, 401, 402,\n         403, 404, 405, 406, 407, 408, 409, 410, 411, 412, 413, 414, 415,\n         416, 417, 418, 419, 420, 421, 422, 423, 424, 425, 427, 428, 429,\n         431, 432, 433, 434, 437, 439, 440, 442, 443, 444, 445, 446, 447,\n         448]),\n  'val': array([ 11,  16,  29,  47,  49,  51,  55,  68,  69,  83,  86,  89,  92,\n         133, 144, 161, 171, 175, 176, 183, 191, 192, 202, 203, 224, 237,\n         244, 249, 251, 257, 271, 290, 299, 322, 334, 345, 348, 368, 388,\n         426, 430, 435, 436, 438, 441])},\n 6: {'train': array([  0,   1,   2,   3,   4,   5,   6,   7,   8,   9,  11,  12,  13,\n          14,  15,  16,  17,  18,  19,  20,  21,  22,  24,  25,  27,  28,\n          29,  30,  31,  34,  35,  37,  38,  39,  40,  41,  42,  43,  44,\n          45,  46,  47,  48,  49,  50,  51,  53,  54,  55,  56,  57,  58,\n          59,  60,  62,  63,  64,  65,  66,  67,  68,  69,  70,  71,  72,\n          73,  74,  76,  77,  78,  79,  80,  82,  83,  84,  85,  86,  88,\n          89,  90,  91,  92,  93,  94,  95,  96,  97,  98,  99, 100, 101,\n         102, 103, 104, 105, 106, 107, 109, 110, 111, 112, 113, 114, 115,\n         116, 117, 119, 120, 121, 122, 123, 124, 125, 127, 128, 129, 131,\n         132, 133, 134, 135, 136, 137, 139, 140, 141, 142, 143, 144, 145,\n         147, 148, 149, 150, 151, 152, 153, 155, 156, 157, 158, 159, 160,\n         161, 162, 163, 164, 165, 166, 168, 169, 170, 171, 172, 173, 174,\n         175, 176, 177, 178, 179, 180, 181, 182, 183, 184, 186, 187, 188,\n         189, 191, 192, 193, 194, 195, 196, 197, 198, 199, 200, 201, 202,\n         203, 204, 205, 206, 207, 209, 210, 211, 212, 213, 214, 216, 217,\n         218, 219, 220, 221, 222, 223, 224, 225, 226, 228, 229, 230, 231,\n         232, 233, 234, 235, 236, 237, 238, 239, 240, 241, 242, 243, 244,\n         245, 246, 247, 248, 249, 250, 251, 252, 253, 254, 256, 257, 258,\n         259, 260, 261, 262, 263, 264, 265, 266, 267, 268, 269, 270, 271,\n         272, 273, 274, 275, 276, 277, 278, 279, 280, 281, 282, 283, 284,\n         285, 286, 287, 288, 289, 290, 291, 292, 293, 295, 296, 297, 298,\n         299, 300, 301, 302, 303, 304, 305, 306, 307, 308, 309, 310, 311,\n         312, 313, 314, 315, 317, 318, 319, 320, 322, 323, 324, 325, 326,\n         327, 329, 330, 331, 333, 334, 335, 337, 338, 339, 340, 342, 343,\n         344, 345, 346, 347, 348, 350, 351, 352, 353, 355, 356, 357, 358,\n         359, 360, 361, 362, 363, 364, 365, 366, 367, 368, 369, 370, 371,\n         372, 373, 374, 376, 377, 378, 379, 380, 381, 383, 384, 387, 388,\n         389, 390, 391, 392, 393, 394, 396, 397, 398, 399, 401, 402, 403,\n         404, 405, 406, 407, 408, 409, 410, 411, 412, 413, 415, 416, 417,\n         419, 420, 421, 422, 423, 424, 425, 426, 427, 428, 429, 430, 431,\n         432, 433, 434, 435, 436, 437, 438, 439, 440, 441, 442, 444, 445,\n         447]),\n  'val': array([ 10,  23,  26,  32,  33,  36,  52,  61,  75,  81,  87, 108, 118,\n         126, 130, 138, 146, 154, 167, 185, 190, 208, 215, 227, 255, 294,\n         316, 321, 328, 332, 336, 341, 349, 354, 375, 382, 385, 386, 395,\n         400, 414, 418, 443, 446, 448])},\n 7: {'train': array([  0,   1,   2,   3,   4,   5,   6,   7,   8,   9,  10,  11,  12,\n          13,  14,  15,  16,  17,  18,  20,  21,  22,  23,  25,  26,  28,\n          29,  30,  31,  32,  33,  34,  35,  36,  37,  38,  39,  40,  42,\n          43,  44,  45,  46,  47,  48,  49,  50,  51,  52,  53,  54,  55,\n          56,  57,  58,  59,  60,  61,  62,  63,  64,  65,  66,  67,  68,\n          69,  70,  72,  73,  74,  75,  76,  77,  78,  79,  80,  81,  82,\n          83,  84,  85,  86,  87,  89,  90,  92,  93,  94,  95,  96,  97,\n          98,  99, 100, 102, 103, 104, 105, 107, 108, 109, 111, 112, 113,\n         114, 115, 116, 117, 118, 119, 120, 121, 122, 123, 124, 125, 126,\n         127, 128, 130, 133, 134, 135, 136, 137, 138, 140, 141, 142, 144,\n         145, 146, 147, 148, 149, 150, 151, 153, 154, 156, 157, 158, 159,\n         160, 161, 163, 164, 165, 166, 167, 168, 169, 170, 171, 172, 173,\n         174, 175, 176, 177, 178, 180, 181, 182, 183, 184, 185, 186, 187,\n         188, 189, 190, 191, 192, 193, 194, 195, 196, 197, 198, 200, 201,\n         202, 203, 204, 205, 206, 207, 208, 209, 210, 211, 212, 214, 215,\n         216, 218, 220, 221, 222, 223, 224, 225, 226, 227, 228, 230, 231,\n         233, 234, 235, 236, 237, 239, 241, 242, 243, 244, 245, 246, 247,\n         248, 249, 250, 251, 253, 254, 255, 256, 257, 258, 259, 260, 261,\n         262, 263, 265, 266, 267, 268, 270, 271, 272, 273, 274, 275, 276,\n         277, 278, 279, 280, 281, 282, 283, 284, 285, 287, 288, 289, 290,\n         291, 292, 293, 294, 297, 298, 299, 300, 302, 303, 304, 305, 306,\n         307, 309, 310, 311, 312, 313, 314, 315, 316, 317, 319, 320, 321,\n         322, 323, 324, 325, 327, 328, 329, 330, 331, 332, 333, 334, 336,\n         337, 338, 339, 341, 342, 344, 345, 346, 347, 348, 349, 350, 351,\n         352, 353, 354, 355, 356, 357, 358, 359, 361, 362, 364, 365, 367,\n         368, 369, 370, 371, 372, 373, 374, 375, 376, 377, 378, 379, 380,\n         381, 382, 383, 384, 385, 386, 387, 388, 389, 390, 391, 392, 393,\n         394, 395, 396, 397, 398, 399, 400, 402, 404, 405, 406, 407, 408,\n         409, 410, 411, 412, 413, 414, 415, 416, 417, 418, 419, 420, 421,\n         422, 423, 424, 425, 426, 427, 428, 429, 430, 431, 432, 433, 434,\n         435, 436, 437, 438, 439, 440, 441, 442, 443, 444, 445, 446, 447,\n         448]),\n  'val': array([ 19,  24,  27,  41,  71,  88,  91, 101, 106, 110, 129, 131, 132,\n         139, 143, 152, 155, 162, 179, 199, 213, 217, 219, 229, 232, 238,\n         240, 252, 264, 269, 286, 295, 296, 301, 308, 318, 326, 335, 340,\n         343, 360, 363, 366, 401, 403])},\n 8: {'train': array([  1,   2,   3,   4,   5,   6,   7,   8,  10,  11,  12,  14,  15,\n          16,  17,  18,  19,  20,  21,  22,  23,  24,  25,  26,  27,  28,\n          29,  30,  32,  33,  34,  35,  36,  37,  38,  39,  40,  41,  42,\n          43,  44,  45,  46,  47,  48,  49,  50,  51,  52,  53,  55,  56,\n          58,  59,  60,  61,  62,  63,  64,  65,  66,  67,  68,  69,  70,\n          71,  72,  73,  74,  75,  76,  77,  78,  79,  81,  82,  83,  84,\n          85,  86,  87,  88,  89,  90,  91,  92,  93,  94,  95,  96,  97,\n          99, 101, 102, 103, 104, 105, 106, 107, 108, 109, 110, 111, 112,\n         113, 115, 116, 117, 118, 119, 120, 121, 122, 125, 126, 127, 128,\n         129, 130, 131, 132, 133, 134, 135, 136, 137, 138, 139, 140, 141,\n         142, 143, 144, 145, 146, 147, 148, 149, 150, 151, 152, 153, 154,\n         155, 157, 158, 159, 161, 162, 163, 165, 166, 167, 168, 169, 171,\n         172, 173, 174, 175, 176, 177, 178, 179, 180, 181, 182, 183, 184,\n         185, 186, 187, 188, 189, 190, 191, 192, 193, 194, 195, 196, 197,\n         198, 199, 200, 201, 202, 203, 204, 205, 206, 208, 209, 210, 211,\n         212, 213, 214, 215, 216, 217, 218, 219, 220, 221, 222, 223, 224,\n         225, 226, 227, 228, 229, 230, 231, 232, 233, 234, 235, 236, 237,\n         238, 239, 240, 241, 242, 243, 244, 245, 247, 248, 249, 250, 251,\n         252, 253, 254, 255, 257, 258, 259, 260, 261, 262, 263, 264, 265,\n         266, 267, 268, 269, 270, 271, 273, 275, 276, 278, 279, 280, 282,\n         283, 284, 285, 286, 287, 288, 289, 290, 291, 292, 293, 294, 295,\n         296, 297, 299, 300, 301, 303, 304, 305, 306, 308, 309, 310, 312,\n         314, 315, 316, 317, 318, 319, 320, 321, 322, 323, 324, 325, 326,\n         327, 328, 329, 330, 331, 332, 333, 334, 335, 336, 338, 340, 341,\n         342, 343, 344, 345, 346, 348, 349, 350, 352, 353, 354, 355, 357,\n         358, 359, 360, 361, 362, 363, 364, 365, 366, 367, 368, 369, 370,\n         371, 373, 375, 376, 377, 378, 379, 380, 382, 383, 384, 385, 386,\n         388, 389, 390, 391, 392, 393, 394, 395, 396, 397, 398, 400, 401,\n         402, 403, 405, 406, 408, 409, 410, 411, 412, 413, 414, 415, 416,\n         417, 418, 419, 420, 421, 423, 424, 425, 426, 427, 430, 431, 432,\n         434, 435, 436, 437, 438, 440, 441, 442, 443, 444, 445, 446, 447,\n         448]),\n  'val': array([  0,   9,  13,  31,  54,  57,  80,  98, 100, 114, 123, 124, 156,\n         160, 164, 170, 207, 246, 256, 272, 274, 277, 281, 298, 302, 307,\n         311, 313, 337, 339, 347, 351, 356, 372, 374, 381, 387, 399, 404,\n         407, 422, 428, 429, 433, 439])},\n 9: {'train': array([  0,   1,   2,   3,   4,   5,   6,   7,   8,   9,  10,  11,  12,\n          13,  14,  15,  16,  17,  18,  19,  20,  21,  22,  23,  24,  25,\n          26,  27,  28,  29,  30,  31,  32,  33,  34,  35,  36,  37,  38,\n          41,  42,  45,  46,  47,  48,  49,  50,  51,  52,  53,  54,  55,\n          56,  57,  58,  59,  60,  61,  62,  63,  64,  65,  66,  67,  68,\n          69,  71,  72,  73,  74,  75,  76,  77,  78,  80,  81,  82,  83,\n          84,  85,  86,  87,  88,  89,  90,  91,  92,  93,  94,  95,  96,\n          97,  98,  99, 100, 101, 102, 104, 106, 107, 108, 109, 110, 111,\n         113, 114, 115, 116, 118, 119, 120, 121, 122, 123, 124, 126, 127,\n         128, 129, 130, 131, 132, 133, 134, 136, 137, 138, 139, 140, 141,\n         142, 143, 144, 145, 146, 147, 148, 149, 150, 151, 152, 154, 155,\n         156, 157, 158, 159, 160, 161, 162, 163, 164, 165, 166, 167, 168,\n         169, 170, 171, 172, 173, 174, 175, 176, 177, 178, 179, 180, 181,\n         183, 184, 185, 186, 187, 188, 190, 191, 192, 193, 195, 196, 197,\n         198, 199, 200, 202, 203, 204, 205, 206, 207, 208, 209, 210, 212,\n         213, 214, 215, 216, 217, 218, 219, 220, 221, 222, 223, 224, 225,\n         227, 228, 229, 230, 231, 232, 233, 234, 235, 236, 237, 238, 239,\n         240, 241, 242, 243, 244, 245, 246, 249, 250, 251, 252, 253, 254,\n         255, 256, 257, 258, 259, 260, 262, 263, 264, 265, 266, 267, 268,\n         269, 270, 271, 272, 273, 274, 276, 277, 278, 279, 280, 281, 282,\n         283, 284, 286, 287, 289, 290, 291, 294, 295, 296, 297, 298, 299,\n         300, 301, 302, 303, 304, 307, 308, 310, 311, 313, 314, 315, 316,\n         317, 318, 319, 320, 321, 322, 323, 326, 327, 328, 329, 330, 331,\n         332, 333, 334, 335, 336, 337, 338, 339, 340, 341, 342, 343, 345,\n         346, 347, 348, 349, 351, 352, 353, 354, 356, 357, 358, 359, 360,\n         361, 362, 363, 364, 365, 366, 367, 368, 369, 370, 371, 372, 374,\n         375, 376, 380, 381, 382, 383, 384, 385, 386, 387, 388, 389, 391,\n         392, 393, 394, 395, 396, 397, 398, 399, 400, 401, 402, 403, 404,\n         405, 406, 407, 408, 409, 411, 413, 414, 415, 416, 417, 418, 419,\n         420, 421, 422, 424, 425, 426, 427, 428, 429, 430, 431, 433, 434,\n         435, 436, 437, 438, 439, 440, 441, 442, 443, 444, 445, 446, 447,\n         448]),\n  'val': array([ 39,  40,  43,  44,  70,  79, 103, 105, 112, 117, 125, 135, 153,\n         182, 189, 194, 201, 211, 226, 247, 248, 261, 275, 285, 288, 292,\n         293, 305, 306, 309, 312, 324, 325, 344, 350, 355, 373, 377, 378,\n         379, 390, 410, 412, 423, 432])},\n 10: {'train': array([  0,   1,   3,   4,   6,   7,   8,   9,  10,  11,  12,  13,  14,\n          16,  17,  18,  19,  21,  23,  24,  25,  26,  27,  28,  29,  30,\n          31,  32,  33,  34,  35,  36,  38,  39,  40,  41,  42,  43,  44,\n          45,  46,  47,  48,  49,  50,  51,  52,  53,  54,  55,  56,  57,\n          58,  59,  60,  61,  62,  63,  64,  65,  66,  67,  68,  69,  70,\n          71,  72,  73,  75,  76,  77,  78,  79,  80,  81,  82,  83,  85,\n          86,  87,  88,  89,  90,  91,  92,  93,  94,  96,  97,  98,  99,\n         100, 101, 102, 103, 104, 105, 106, 107, 108, 109, 110, 111, 112,\n         114, 115, 116, 117, 118, 119, 120, 121, 123, 124, 125, 126, 127,\n         128, 129, 130, 131, 132, 133, 134, 135, 136, 137, 138, 139, 140,\n         141, 142, 143, 144, 146, 147, 148, 149, 150, 151, 152, 153, 154,\n         155, 156, 157, 159, 160, 161, 162, 164, 166, 167, 168, 169, 170,\n         171, 172, 174, 175, 176, 177, 178, 179, 181, 182, 183, 185, 186,\n         187, 189, 190, 191, 192, 193, 194, 195, 197, 198, 199, 200, 201,\n         202, 203, 204, 205, 207, 208, 211, 212, 213, 214, 215, 216, 217,\n         218, 219, 221, 222, 223, 224, 226, 227, 229, 230, 231, 232, 233,\n         234, 235, 236, 237, 238, 239, 240, 242, 244, 245, 246, 247, 248,\n         249, 251, 252, 253, 254, 255, 256, 257, 258, 259, 260, 261, 263,\n         264, 265, 266, 267, 268, 269, 271, 272, 273, 274, 275, 276, 277,\n         278, 279, 280, 281, 282, 285, 286, 288, 289, 290, 291, 292, 293,\n         294, 295, 296, 297, 298, 299, 300, 301, 302, 303, 304, 305, 306,\n         307, 308, 309, 310, 311, 312, 313, 314, 315, 316, 318, 319, 320,\n         321, 322, 323, 324, 325, 326, 327, 328, 331, 332, 334, 335, 336,\n         337, 338, 339, 340, 341, 342, 343, 344, 345, 346, 347, 348, 349,\n         350, 351, 352, 353, 354, 355, 356, 357, 358, 359, 360, 361, 362,\n         363, 364, 365, 366, 367, 368, 369, 370, 372, 373, 374, 375, 376,\n         377, 378, 379, 380, 381, 382, 384, 385, 386, 387, 388, 389, 390,\n         391, 392, 393, 394, 395, 396, 397, 399, 400, 401, 402, 403, 404,\n         405, 406, 407, 408, 409, 410, 411, 412, 414, 415, 416, 417, 418,\n         420, 421, 422, 423, 424, 425, 426, 427, 428, 429, 430, 431, 432,\n         433, 434, 435, 436, 437, 438, 439, 440, 441, 442, 443, 444, 446,\n         447, 448]),\n  'val': array([  2,   5,  15,  20,  22,  37,  74,  84,  95, 113, 122, 145, 158,\n         163, 165, 173, 180, 184, 188, 196, 206, 209, 210, 220, 225, 228,\n         241, 243, 250, 262, 270, 283, 284, 287, 317, 329, 330, 333, 371,\n         383, 398, 413, 419, 445])}}"
     },
     "execution_count": 8,
     "metadata": {},
     "output_type": "execute_result"
    }
   ],
   "source": [
    "splits"
   ],
   "metadata": {
    "collapsed": false,
    "ExecuteTime": {
     "end_time": "2023-07-16T14:33:44.252346Z",
     "start_time": "2023-07-16T14:33:44.237627400Z"
    }
   }
  },
  {
   "cell_type": "code",
   "execution_count": null,
   "outputs": [],
   "source": [],
   "metadata": {
    "collapsed": false
   }
  },
  {
   "cell_type": "code",
   "execution_count": null,
   "outputs": [],
   "source": [],
   "metadata": {
    "collapsed": false
   }
  },
  {
   "cell_type": "markdown",
   "source": [
    "## Mixing new private dataset"
   ],
   "metadata": {
    "collapsed": false
   }
  },
  {
   "cell_type": "code",
   "execution_count": 3,
   "outputs": [],
   "source": [
    "import pandas as pd\n",
    "import numpy as np\n",
    "import glob"
   ],
   "metadata": {
    "collapsed": false,
    "ExecuteTime": {
     "end_time": "2023-07-15T07:32:39.721301Z",
     "start_time": "2023-07-15T07:32:39.704929800Z"
    }
   }
  },
  {
   "cell_type": "code",
   "execution_count": 26,
   "outputs": [],
   "source": [
    "# Load the new private dataset\n",
    "new_private_data = pd.read_csv(\"./data/Mexico_private_dataset/mexico_preprocessed_additional.csv\")\n",
    "old_private_data = pd.read_csv(\"./data/Mexico_private_dataset/mexico_preprocessed_dataset.csv\")"
   ],
   "metadata": {
    "collapsed": false,
    "ExecuteTime": {
     "end_time": "2023-07-15T07:42:45.142499600Z",
     "start_time": "2023-07-15T07:42:45.134244500Z"
    }
   }
  },
  {
   "cell_type": "code",
   "execution_count": 27,
   "outputs": [
    {
     "data": {
      "text/plain": "(108, 341)"
     },
     "execution_count": 27,
     "metadata": {},
     "output_type": "execute_result"
    }
   ],
   "source": [
    "len(new_private_data), len(old_private_data)"
   ],
   "metadata": {
    "collapsed": false,
    "ExecuteTime": {
     "end_time": "2023-07-15T07:42:45.580483200Z",
     "start_time": "2023-07-15T07:42:45.562836300Z"
    }
   }
  },
  {
   "cell_type": "code",
   "execution_count": 28,
   "outputs": [],
   "source": [
    "# Combine both pandas dataframes and reindex the id column"
   ],
   "metadata": {
    "collapsed": false,
    "ExecuteTime": {
     "end_time": "2023-07-15T07:42:46.260529200Z",
     "start_time": "2023-07-15T07:42:46.248726800Z"
    }
   }
  },
  {
   "cell_type": "code",
   "execution_count": 29,
   "outputs": [],
   "source": [
    "# Use the last id from the old private dataset\n",
    "new_private_data['id'] = new_private_data['id'] + old_private_data['id'][len(old_private_data) - 1]"
   ],
   "metadata": {
    "collapsed": false,
    "ExecuteTime": {
     "end_time": "2023-07-15T07:42:46.764338900Z",
     "start_time": "2023-07-15T07:42:46.743361500Z"
    }
   }
  },
  {
   "cell_type": "code",
   "execution_count": 30,
   "outputs": [
    {
     "data": {
      "text/plain": "      id  age  gender  boneage radiologist  year_entry  \\\n0    346   84       0       72         JSA        2023   \n1    347  112       0       84         JSA        2023   \n2    349  135       0      132         JSA        2023   \n3    351  114       1      120         JSA        2023   \n4    352  160       1      180         JSA        2023   \n..   ...  ...     ...      ...         ...         ...   \n103  457   97       1       84         JSA        2023   \n104  458   76       1       66         JSA        2023   \n105  459  138       1      144         JSA        2023   \n106  460  111       0       84         JSA        2023   \n107  461   97       1       94         JSA        2023   \n\n                                               path  exists  \n0      data\\Mexico_private_dataset\\additional\\1.png    True  \n1      data\\Mexico_private_dataset\\additional\\2.png    True  \n2      data\\Mexico_private_dataset\\additional\\4.png    True  \n3      data\\Mexico_private_dataset\\additional\\6.png    True  \n4      data\\Mexico_private_dataset\\additional\\7.png    True  \n..                                              ...     ...  \n103  data\\Mexico_private_dataset\\additional\\112.png    True  \n104  data\\Mexico_private_dataset\\additional\\113.png    True  \n105  data\\Mexico_private_dataset\\additional\\114.png    True  \n106  data\\Mexico_private_dataset\\additional\\115.png    True  \n107  data\\Mexico_private_dataset\\additional\\116.png    True  \n\n[108 rows x 8 columns]",
      "text/html": "<div>\n<style scoped>\n    .dataframe tbody tr th:only-of-type {\n        vertical-align: middle;\n    }\n\n    .dataframe tbody tr th {\n        vertical-align: top;\n    }\n\n    .dataframe thead th {\n        text-align: right;\n    }\n</style>\n<table border=\"1\" class=\"dataframe\">\n  <thead>\n    <tr style=\"text-align: right;\">\n      <th></th>\n      <th>id</th>\n      <th>age</th>\n      <th>gender</th>\n      <th>boneage</th>\n      <th>radiologist</th>\n      <th>year_entry</th>\n      <th>path</th>\n      <th>exists</th>\n    </tr>\n  </thead>\n  <tbody>\n    <tr>\n      <th>0</th>\n      <td>346</td>\n      <td>84</td>\n      <td>0</td>\n      <td>72</td>\n      <td>JSA</td>\n      <td>2023</td>\n      <td>data\\Mexico_private_dataset\\additional\\1.png</td>\n      <td>True</td>\n    </tr>\n    <tr>\n      <th>1</th>\n      <td>347</td>\n      <td>112</td>\n      <td>0</td>\n      <td>84</td>\n      <td>JSA</td>\n      <td>2023</td>\n      <td>data\\Mexico_private_dataset\\additional\\2.png</td>\n      <td>True</td>\n    </tr>\n    <tr>\n      <th>2</th>\n      <td>349</td>\n      <td>135</td>\n      <td>0</td>\n      <td>132</td>\n      <td>JSA</td>\n      <td>2023</td>\n      <td>data\\Mexico_private_dataset\\additional\\4.png</td>\n      <td>True</td>\n    </tr>\n    <tr>\n      <th>3</th>\n      <td>351</td>\n      <td>114</td>\n      <td>1</td>\n      <td>120</td>\n      <td>JSA</td>\n      <td>2023</td>\n      <td>data\\Mexico_private_dataset\\additional\\6.png</td>\n      <td>True</td>\n    </tr>\n    <tr>\n      <th>4</th>\n      <td>352</td>\n      <td>160</td>\n      <td>1</td>\n      <td>180</td>\n      <td>JSA</td>\n      <td>2023</td>\n      <td>data\\Mexico_private_dataset\\additional\\7.png</td>\n      <td>True</td>\n    </tr>\n    <tr>\n      <th>...</th>\n      <td>...</td>\n      <td>...</td>\n      <td>...</td>\n      <td>...</td>\n      <td>...</td>\n      <td>...</td>\n      <td>...</td>\n      <td>...</td>\n    </tr>\n    <tr>\n      <th>103</th>\n      <td>457</td>\n      <td>97</td>\n      <td>1</td>\n      <td>84</td>\n      <td>JSA</td>\n      <td>2023</td>\n      <td>data\\Mexico_private_dataset\\additional\\112.png</td>\n      <td>True</td>\n    </tr>\n    <tr>\n      <th>104</th>\n      <td>458</td>\n      <td>76</td>\n      <td>1</td>\n      <td>66</td>\n      <td>JSA</td>\n      <td>2023</td>\n      <td>data\\Mexico_private_dataset\\additional\\113.png</td>\n      <td>True</td>\n    </tr>\n    <tr>\n      <th>105</th>\n      <td>459</td>\n      <td>138</td>\n      <td>1</td>\n      <td>144</td>\n      <td>JSA</td>\n      <td>2023</td>\n      <td>data\\Mexico_private_dataset\\additional\\114.png</td>\n      <td>True</td>\n    </tr>\n    <tr>\n      <th>106</th>\n      <td>460</td>\n      <td>111</td>\n      <td>0</td>\n      <td>84</td>\n      <td>JSA</td>\n      <td>2023</td>\n      <td>data\\Mexico_private_dataset\\additional\\115.png</td>\n      <td>True</td>\n    </tr>\n    <tr>\n      <th>107</th>\n      <td>461</td>\n      <td>97</td>\n      <td>1</td>\n      <td>94</td>\n      <td>JSA</td>\n      <td>2023</td>\n      <td>data\\Mexico_private_dataset\\additional\\116.png</td>\n      <td>True</td>\n    </tr>\n  </tbody>\n</table>\n<p>108 rows × 8 columns</p>\n</div>"
     },
     "execution_count": 30,
     "metadata": {},
     "output_type": "execute_result"
    }
   ],
   "source": [
    "new_private_data"
   ],
   "metadata": {
    "collapsed": false,
    "ExecuteTime": {
     "end_time": "2023-07-15T07:42:47.475229Z",
     "start_time": "2023-07-15T07:42:47.459866100Z"
    }
   }
  },
  {
   "cell_type": "code",
   "execution_count": 31,
   "outputs": [],
   "source": [
    "# Open the images from the path column\n",
    "import cv2\n",
    "for row in new_private_data.iterrows():\n",
    "    image = cv2.imread(row[1]['path'], cv2.IMREAD_UNCHANGED)\n",
    "    cv2.imwrite(f\"./data/Mexico_private_dataset/additional/{row[1]['id']}.png\", image)\n",
    "    # delete the old image\n",
    "    os.remove(row[1]['path'])\n",
    "    # Rename the path value in the path column\n",
    "    new_private_data.loc[row[0], 'path'] = f\"./data/Mexico_private_dataset/additional/{row[1]['id']}.png\"\n"
   ],
   "metadata": {
    "collapsed": false,
    "ExecuteTime": {
     "end_time": "2023-07-15T07:43:12.650306400Z",
     "start_time": "2023-07-15T07:43:09.074458600Z"
    }
   }
  },
  {
   "cell_type": "code",
   "execution_count": 32,
   "outputs": [],
   "source": [
    "# combine both dataframe\n",
    "mexico_data = pd.concat([old_private_data, new_private_data])\n"
   ],
   "metadata": {
    "collapsed": false,
    "ExecuteTime": {
     "end_time": "2023-07-15T07:43:12.665710200Z",
     "start_time": "2023-07-15T07:43:12.653057400Z"
    }
   }
  },
  {
   "cell_type": "code",
   "execution_count": 33,
   "outputs": [
    {
     "data": {
      "text/plain": "449"
     },
     "execution_count": 33,
     "metadata": {},
     "output_type": "execute_result"
    }
   ],
   "source": [
    "len(mexico_data)"
   ],
   "metadata": {
    "collapsed": false,
    "ExecuteTime": {
     "end_time": "2023-07-15T07:43:18.135346300Z",
     "start_time": "2023-07-15T07:43:18.131307900Z"
    }
   }
  },
  {
   "cell_type": "code",
   "execution_count": 40,
   "outputs": [],
   "source": [
    "# save pandas df as csv without index\n",
    "mexico_data.to_csv(\"./data/Mexico_private_dataset/mexico_complete_dataset.csv\", index=False)"
   ],
   "metadata": {
    "collapsed": false,
    "ExecuteTime": {
     "end_time": "2023-07-15T07:45:05.357604600Z",
     "start_time": "2023-07-15T07:45:05.324000400Z"
    }
   }
  },
  {
   "cell_type": "code",
   "execution_count": null,
   "outputs": [],
   "source": [],
   "metadata": {
    "collapsed": false
   }
  }
 ],
 "metadata": {
  "kernelspec": {
   "display_name": "Python 3",
   "language": "python",
   "name": "python3"
  },
  "language_info": {
   "codemirror_mode": {
    "name": "ipython",
    "version": 2
   },
   "file_extension": ".py",
   "mimetype": "text/x-python",
   "name": "python",
   "nbconvert_exporter": "python",
   "pygments_lexer": "ipython2",
   "version": "2.7.6"
  }
 },
 "nbformat": 4,
 "nbformat_minor": 0
}
