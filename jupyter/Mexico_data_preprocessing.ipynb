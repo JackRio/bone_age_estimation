{
 "cells": [
  {
   "cell_type": "code",
   "execution_count": 5,
   "metadata": {
    "collapsed": true,
    "ExecuteTime": {
     "end_time": "2023-06-28T06:49:25.812157400Z",
     "start_time": "2023-06-28T06:49:25.805882600Z"
    }
   },
   "outputs": [
    {
     "data": {
      "text/plain": "['.git',\n '.gitignore',\n '.idea',\n 'config',\n 'data',\n 'dataloader.py',\n 'jupyter',\n 'lightning_logs',\n 'main.py',\n 'models',\n 'nvidia_dali.py',\n 'output',\n 'README.md',\n 'requirements.txt',\n 'test.py',\n 'utils',\n 'wandb',\n '__pycache__']"
     },
     "execution_count": 5,
     "metadata": {},
     "output_type": "execute_result"
    }
   ],
   "source": [
    "import pandas as pd\n",
    "import os\n",
    "import glob\n",
    "\n",
    "os.listdir()"
   ]
  },
  {
   "cell_type": "code",
   "execution_count": null,
   "outputs": [],
   "source": [
    "os.chdir(\"../\")"
   ],
   "metadata": {
    "collapsed": false
   }
  },
  {
   "cell_type": "markdown",
   "source": [
    "## Extracts information like actual age, estimated bone age, gender and radiologist initials from the text file."
   ],
   "metadata": {
    "collapsed": false
   }
  },
  {
   "cell_type": "code",
   "execution_count": 58,
   "outputs": [],
   "source": [
    "import re\n",
    "\n",
    "\n",
    "def calculate_total_months(duration):\n",
    "    total_months = 0\n",
    "\n",
    "    # Extract years and months from the duration string\n",
    "    years = re.findall(r'(\\d+)\\s*y', duration, re.IGNORECASE)\n",
    "    months = re.findall(r'(\\d+)\\s*m', duration, re.IGNORECASE)\n",
    "\n",
    "    # Add the years and months to the total\n",
    "    if years:\n",
    "        total_months += int(years[0]) * 12\n",
    "    if months:\n",
    "        total_months += int(months[0])\n",
    "\n",
    "    # If no years or months are found, check for a duration in months\n",
    "    if not years and not months:\n",
    "        months_only = re.findall(r'(\\d+)\\s*months?', duration, re.IGNORECASE)\n",
    "        if months_only:\n",
    "            total_months += int(months_only[0])\n",
    "\n",
    "    return total_months\n",
    "\n",
    "\n",
    "def check_gender(data):\n",
    "    pattern = r'(?i)GENDER:\\s*(M|F)'\n",
    "    match = re.search(pattern, data)\n",
    "    if match:\n",
    "        return match.group(1).upper()\n",
    "    else:\n",
    "        return None\n",
    "\n",
    "\n",
    "def clean_values(data):\n",
    "    age = calculate_total_months(data[0])\n",
    "    gender = [0 if data[1] == \"MALE\" else 1][0]\n",
    "\n",
    "    # Check if the age is in the second line or third line\n",
    "    if bool(re.search(r'\\d', data[2])):\n",
    "        bage = calculate_total_months(data[2])\n",
    "        radiologist = data[3].split(\":\")[1].strip().upper()\n",
    "    else:\n",
    "        bage = calculate_total_months(data[3])\n",
    "        radiologist = data[2].split(\":\")[1].strip().upper()\n",
    "\n",
    "    return age, gender, bage, radiologist\n",
    "\n",
    "# age, bage, gender, radiologist= [], [], [], []\n",
    "# for dir in glob.glob(\"./data/Mex_sample_data/*\"):\n",
    "#     for file in glob.glob(dir + \"/*.txt\"):\n",
    "#         with open(file, \"r\") as f:\n",
    "#             data = f.readlines()\n",
    "#             data = [line.strip() for line in data if line.strip()]\n",
    "#\n",
    "#             cleaned = clean_values(data)\n",
    "#             age.append(cleaned[0])\n",
    "#             gender.append(cleaned[1])\n",
    "#             bage.append(cleaned[2])\n",
    "#             radiologist.append(cleaned[3])\n",
    "# mexico_data = pd.DataFrame(data=zip(age, gender, bage, radiologist), columns=['age', 'gender', 'bage', 'radiologist'])"
   ],
   "metadata": {
    "collapsed": false,
    "ExecuteTime": {
     "end_time": "2023-06-28T07:24:57.270490Z",
     "start_time": "2023-06-28T07:24:57.265925Z"
    }
   }
  },
  {
   "cell_type": "code",
   "execution_count": 6,
   "outputs": [],
   "source": [],
   "metadata": {
    "collapsed": false,
    "ExecuteTime": {
     "end_time": "2023-06-28T06:49:28.583776100Z",
     "start_time": "2023-06-28T06:49:28.571349900Z"
    }
   }
  },
  {
   "cell_type": "code",
   "execution_count": 137,
   "outputs": [],
   "source": [
    "age, bage, gender, radiologist, year_entry, id_, paths = [], [], [], [], [], [], []\n",
    "years = [2019]\n",
    "for year in years:\n",
    "    for dir in glob.glob(f\"data/Mexico_private_dataset/{year}/*\"):\n",
    "        for file in glob.glob(dir + \"/*.txt\"):\n",
    "            with open(file, \"r\", encoding=\"utf8\") as f:\n",
    "                data = f.readlines()\n",
    "                data = [line.strip() for line in data if line.strip()]\n",
    "                id_.append(len(id_) + 1)\n",
    "                dicom_file = glob.glob(dir + \"/*.dcm\")\n",
    "                paths.append(dicom_file[0])\n",
    "                cleaned = clean_values(data)\n",
    "                age.append(cleaned[0])\n",
    "                gender.append(cleaned[1])\n",
    "                bage.append(cleaned[2])\n",
    "                radiologist.append(cleaned[3])\n",
    "                year_entry.append(year)\n"
   ],
   "metadata": {
    "collapsed": false,
    "ExecuteTime": {
     "end_time": "2023-06-28T10:36:09.122169800Z",
     "start_time": "2023-06-28T10:36:09.105844700Z"
    }
   }
  },
  {
   "cell_type": "code",
   "execution_count": 138,
   "outputs": [],
   "source": [
    "for year in [2020, 2021]:\n",
    "    for dir in glob.glob(f\"data/Mexico_private_dataset/{year}/*\"):\n",
    "        for file in glob.glob(dir + \"/*.txt\"):\n",
    "            with open(file, \"r\", encoding=\"utf8\") as f:\n",
    "                data = f.readlines()\n",
    "                data = [line.strip() for line in data if line.strip()]\n",
    "                id_.append(len(id_) + 1)\n",
    "                dicom_file = glob.glob(dir + \"/*.dcm\")\n",
    "                paths.append(dicom_file[0])\n",
    "                age.append(calculate_total_months(data[0]))\n",
    "                if check_gender(data[1]) == \"M\":\n",
    "                    gender.append(0)\n",
    "                elif check_gender(data[1]) == \"F\":\n",
    "                    gender.append(1)\n",
    "                else:\n",
    "                    gender.append(None)\n",
    "                bage.append(calculate_total_months(data[2].split(\":\")[1]))\n",
    "                radiologist.append(data[3].split(\":\")[1].strip().upper())\n",
    "                year_entry.append(year)\n"
   ],
   "metadata": {
    "collapsed": false,
    "ExecuteTime": {
     "end_time": "2023-06-28T10:36:09.373304900Z",
     "start_time": "2023-06-28T10:36:09.285987600Z"
    }
   }
  },
  {
   "cell_type": "code",
   "execution_count": 139,
   "outputs": [],
   "source": [
    "mexico_data = pd.DataFrame(data=zip(id_, age, gender, bage, radiologist, year_entry, paths),\n",
    "                           columns=['id','age', 'gender', 'boneage', 'radiologist', 'year_entry', 'path'])"
   ],
   "metadata": {
    "collapsed": false,
    "ExecuteTime": {
     "end_time": "2023-06-28T10:36:09.451193200Z",
     "start_time": "2023-06-28T10:36:09.435551900Z"
    }
   }
  },
  {
   "cell_type": "code",
   "execution_count": 140,
   "outputs": [],
   "source": [
    "mexico_data.dropna(inplace=True)\n",
    "mexico_data['gender'] = mexico_data.gender.astype(int)"
   ],
   "metadata": {
    "collapsed": false,
    "ExecuteTime": {
     "end_time": "2023-06-28T10:36:09.579771400Z",
     "start_time": "2023-06-28T10:36:09.575047500Z"
    }
   }
  },
  {
   "cell_type": "code",
   "execution_count": 141,
   "outputs": [
    {
     "data": {
      "text/plain": "343"
     },
     "execution_count": 141,
     "metadata": {},
     "output_type": "execute_result"
    }
   ],
   "source": [
    "len(mexico_data)"
   ],
   "metadata": {
    "collapsed": false,
    "ExecuteTime": {
     "end_time": "2023-06-28T10:36:10.085394500Z",
     "start_time": "2023-06-28T10:36:10.069731800Z"
    }
   }
  },
  {
   "cell_type": "code",
   "execution_count": 142,
   "outputs": [],
   "source": [
    "# save pandas df as csv without index\n",
    "mexico_data.to_csv(\"./data/Mexico_private_dataset/mexico_raw_dataset.csv\", index=False)"
   ],
   "metadata": {
    "collapsed": false,
    "ExecuteTime": {
     "end_time": "2023-06-28T10:36:11.261926600Z",
     "start_time": "2023-06-28T10:36:11.257309100Z"
    }
   }
  },
  {
   "cell_type": "code",
   "execution_count": 143,
   "outputs": [],
   "source": [
    "mexico_data['path'] = mexico_data['id'].map(lambda x: os.path.join(\"data\",\n",
    "                                                         \"Mexico_private_dataset\",\n",
    "                                                         'preprocessed',\n",
    "                                                         '{}.png'.format(x)))"
   ],
   "metadata": {
    "collapsed": false,
    "ExecuteTime": {
     "end_time": "2023-06-28T10:36:11.633830500Z",
     "start_time": "2023-06-28T10:36:11.631674900Z"
    }
   }
  },
  {
   "cell_type": "code",
   "execution_count": 144,
   "outputs": [
    {
     "data": {
      "text/plain": "      id  age  gender  boneage radiologist  year_entry  \\\n0      1  192       0      204         JSA        2019   \n1      2  173       0      192         JSA        2019   \n2      3   48       0       36         JSA        2019   \n3      4   48       1       60         JSA        2019   \n4      5  163       0      162         JSA        2019   \n..   ...  ...     ...      ...         ...         ...   \n340  341  122       1      108         JSA        2021   \n341  342  182       0      186         JSA        2021   \n342  343  138       1      132         JSA        2021   \n343  344  116       0       96         JSA        2021   \n344  345  176       0      162         JSA        2021   \n\n                                                 path  \n0      data\\Mexico_private_dataset\\preprocessed\\1.png  \n1      data\\Mexico_private_dataset\\preprocessed\\2.png  \n2      data\\Mexico_private_dataset\\preprocessed\\3.png  \n3      data\\Mexico_private_dataset\\preprocessed\\4.png  \n4      data\\Mexico_private_dataset\\preprocessed\\5.png  \n..                                                ...  \n340  data\\Mexico_private_dataset\\preprocessed\\341.png  \n341  data\\Mexico_private_dataset\\preprocessed\\342.png  \n342  data\\Mexico_private_dataset\\preprocessed\\343.png  \n343  data\\Mexico_private_dataset\\preprocessed\\344.png  \n344  data\\Mexico_private_dataset\\preprocessed\\345.png  \n\n[343 rows x 7 columns]",
      "text/html": "<div>\n<style scoped>\n    .dataframe tbody tr th:only-of-type {\n        vertical-align: middle;\n    }\n\n    .dataframe tbody tr th {\n        vertical-align: top;\n    }\n\n    .dataframe thead th {\n        text-align: right;\n    }\n</style>\n<table border=\"1\" class=\"dataframe\">\n  <thead>\n    <tr style=\"text-align: right;\">\n      <th></th>\n      <th>id</th>\n      <th>age</th>\n      <th>gender</th>\n      <th>boneage</th>\n      <th>radiologist</th>\n      <th>year_entry</th>\n      <th>path</th>\n    </tr>\n  </thead>\n  <tbody>\n    <tr>\n      <th>0</th>\n      <td>1</td>\n      <td>192</td>\n      <td>0</td>\n      <td>204</td>\n      <td>JSA</td>\n      <td>2019</td>\n      <td>data\\Mexico_private_dataset\\preprocessed\\1.png</td>\n    </tr>\n    <tr>\n      <th>1</th>\n      <td>2</td>\n      <td>173</td>\n      <td>0</td>\n      <td>192</td>\n      <td>JSA</td>\n      <td>2019</td>\n      <td>data\\Mexico_private_dataset\\preprocessed\\2.png</td>\n    </tr>\n    <tr>\n      <th>2</th>\n      <td>3</td>\n      <td>48</td>\n      <td>0</td>\n      <td>36</td>\n      <td>JSA</td>\n      <td>2019</td>\n      <td>data\\Mexico_private_dataset\\preprocessed\\3.png</td>\n    </tr>\n    <tr>\n      <th>3</th>\n      <td>4</td>\n      <td>48</td>\n      <td>1</td>\n      <td>60</td>\n      <td>JSA</td>\n      <td>2019</td>\n      <td>data\\Mexico_private_dataset\\preprocessed\\4.png</td>\n    </tr>\n    <tr>\n      <th>4</th>\n      <td>5</td>\n      <td>163</td>\n      <td>0</td>\n      <td>162</td>\n      <td>JSA</td>\n      <td>2019</td>\n      <td>data\\Mexico_private_dataset\\preprocessed\\5.png</td>\n    </tr>\n    <tr>\n      <th>...</th>\n      <td>...</td>\n      <td>...</td>\n      <td>...</td>\n      <td>...</td>\n      <td>...</td>\n      <td>...</td>\n      <td>...</td>\n    </tr>\n    <tr>\n      <th>340</th>\n      <td>341</td>\n      <td>122</td>\n      <td>1</td>\n      <td>108</td>\n      <td>JSA</td>\n      <td>2021</td>\n      <td>data\\Mexico_private_dataset\\preprocessed\\341.png</td>\n    </tr>\n    <tr>\n      <th>341</th>\n      <td>342</td>\n      <td>182</td>\n      <td>0</td>\n      <td>186</td>\n      <td>JSA</td>\n      <td>2021</td>\n      <td>data\\Mexico_private_dataset\\preprocessed\\342.png</td>\n    </tr>\n    <tr>\n      <th>342</th>\n      <td>343</td>\n      <td>138</td>\n      <td>1</td>\n      <td>132</td>\n      <td>JSA</td>\n      <td>2021</td>\n      <td>data\\Mexico_private_dataset\\preprocessed\\343.png</td>\n    </tr>\n    <tr>\n      <th>343</th>\n      <td>344</td>\n      <td>116</td>\n      <td>0</td>\n      <td>96</td>\n      <td>JSA</td>\n      <td>2021</td>\n      <td>data\\Mexico_private_dataset\\preprocessed\\344.png</td>\n    </tr>\n    <tr>\n      <th>344</th>\n      <td>345</td>\n      <td>176</td>\n      <td>0</td>\n      <td>162</td>\n      <td>JSA</td>\n      <td>2021</td>\n      <td>data\\Mexico_private_dataset\\preprocessed\\345.png</td>\n    </tr>\n  </tbody>\n</table>\n<p>343 rows × 7 columns</p>\n</div>"
     },
     "execution_count": 144,
     "metadata": {},
     "output_type": "execute_result"
    }
   ],
   "source": [
    "mexico_data"
   ],
   "metadata": {
    "collapsed": false,
    "ExecuteTime": {
     "end_time": "2023-06-28T10:36:11.974249300Z",
     "start_time": "2023-06-28T10:36:11.948516500Z"
    }
   }
  },
  {
   "cell_type": "code",
   "execution_count": 145,
   "outputs": [
    {
     "data": {
      "text/plain": "gender\n0    174\n1    169\nName: count, dtype: int64"
     },
     "execution_count": 145,
     "metadata": {},
     "output_type": "execute_result"
    }
   ],
   "source": [
    "mexico_data.gender.value_counts()"
   ],
   "metadata": {
    "collapsed": false,
    "ExecuteTime": {
     "end_time": "2023-06-28T10:36:14.169062400Z",
     "start_time": "2023-06-28T10:36:14.148379700Z"
    }
   }
  },
  {
   "cell_type": "code",
   "execution_count": 146,
   "outputs": [
    {
     "name": "stdout",
     "output_type": "stream",
     "text": [
      "337 images found of 343 total\n"
     ]
    }
   ],
   "source": [
    "# Checking if all the images exist\n",
    "mexico_data['exists'] = mexico_data['path'].map(os.path.exists)\n",
    "print(mexico_data['exists'].sum(), 'images found of', mexico_data.shape[0], 'total')\n",
    "# Drop row if exist column is false does not exist\n",
    "mexico_data = mexico_data[mexico_data['exists']]"
   ],
   "metadata": {
    "collapsed": false,
    "ExecuteTime": {
     "end_time": "2023-06-28T10:36:15.418482200Z",
     "start_time": "2023-06-28T10:36:15.393047100Z"
    }
   }
  },
  {
   "cell_type": "code",
   "execution_count": 147,
   "outputs": [],
   "source": [
    "mexico_data.to_csv(\"./data/Mexico_private_dataset/mexico_preprocessed_dataset.csv\", index=False)\n"
   ],
   "metadata": {
    "collapsed": false,
    "ExecuteTime": {
     "end_time": "2023-06-28T10:36:16.092136500Z",
     "start_time": "2023-06-28T10:36:16.085934100Z"
    }
   }
  },
  {
   "cell_type": "code",
   "execution_count": null,
   "outputs": [],
   "source": [],
   "metadata": {
    "collapsed": false
   }
  }
 ],
 "metadata": {
  "kernelspec": {
   "display_name": "Python 3",
   "language": "python",
   "name": "python3"
  },
  "language_info": {
   "codemirror_mode": {
    "name": "ipython",
    "version": 2
   },
   "file_extension": ".py",
   "mimetype": "text/x-python",
   "name": "python",
   "nbconvert_exporter": "python",
   "pygments_lexer": "ipython2",
   "version": "2.7.6"
  }
 },
 "nbformat": 4,
 "nbformat_minor": 0
}
