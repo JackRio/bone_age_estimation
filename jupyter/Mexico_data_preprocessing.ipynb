{
 "cells": [
  {
   "cell_type": "code",
   "execution_count": 1,
   "metadata": {
    "collapsed": true,
    "ExecuteTime": {
     "end_time": "2023-07-15T07:32:12.224499Z",
     "start_time": "2023-07-15T07:32:10.693668900Z"
    }
   },
   "outputs": [
    {
     "data": {
      "text/plain": "['Mexico_data_preprocessing.ipynb',\n 'preprocessing.ipynb',\n 'RSNA_data_preprocessing.ipynb',\n 'test_set_rsna.ipynb']"
     },
     "execution_count": 1,
     "metadata": {},
     "output_type": "execute_result"
    }
   ],
   "source": [
    "import pandas as pd\n",
    "import os\n",
    "import glob\n",
    "\n",
    "os.listdir()"
   ]
  },
  {
   "cell_type": "code",
   "execution_count": 2,
   "outputs": [],
   "source": [
    "os.chdir(\"../\")"
   ],
   "metadata": {
    "collapsed": false,
    "ExecuteTime": {
     "end_time": "2023-07-15T07:32:12.233272600Z",
     "start_time": "2023-07-15T07:32:12.220448200Z"
    }
   }
  },
  {
   "cell_type": "markdown",
   "source": [
    "## Extracts information like actual age, estimated bone age, gender and radiologist initials from the text file."
   ],
   "metadata": {
    "collapsed": false
   }
  },
  {
   "cell_type": "code",
   "execution_count": 3,
   "outputs": [],
   "source": [
    "import re\n",
    "\n",
    "\n",
    "def calculate_total_months(duration):\n",
    "    total_months = 0\n",
    "\n",
    "    # Extract years and months from the duration string\n",
    "    years = re.findall(r'(\\d+)\\s*y', duration, re.IGNORECASE)\n",
    "    months = re.findall(r'(\\d+)\\s*m', duration, re.IGNORECASE)\n",
    "\n",
    "    # Add the years and months to the total\n",
    "    if years:\n",
    "        total_months += int(years[0]) * 12\n",
    "    if months:\n",
    "        total_months += int(months[0])\n",
    "\n",
    "    # If no years or months are found, check for a duration in months\n",
    "    if not years and not months:\n",
    "        months_only = re.findall(r'(\\d+)\\s*months?', duration, re.IGNORECASE)\n",
    "        if months_only:\n",
    "            total_months += int(months_only[0])\n",
    "\n",
    "    return total_months\n",
    "\n",
    "\n",
    "def check_gender(data):\n",
    "    pattern = r'(?i)GENDER:\\s*(M|F)'\n",
    "    match = re.search(pattern, data)\n",
    "    if match:\n",
    "        return match.group(1).upper()\n",
    "    else:\n",
    "        return None\n",
    "\n",
    "\n",
    "def clean_values(data):\n",
    "    age = calculate_total_months(data[0])\n",
    "    gender = [0 if data[1] == \"MALE\" else 1][0]\n",
    "\n",
    "    # Check if the age is in the second line or third line\n",
    "    if bool(re.search(r'\\d', data[2])):\n",
    "        bage = calculate_total_months(data[2])\n",
    "        radiologist = data[3].split(\":\")[1].strip().upper()\n",
    "    else:\n",
    "        bage = calculate_total_months(data[3])\n",
    "        radiologist = data[2].split(\":\")[1].strip().upper()\n",
    "\n",
    "    return age, gender, bage, radiologist\n",
    "\n",
    "# age, bage, gender, radiologist= [], [], [], []\n",
    "# for dir in glob.glob(\"./data/Mex_sample_data/*\"):\n",
    "#     for file in glob.glob(dir + \"/*.txt\"):\n",
    "#         with open(file, \"r\") as f:\n",
    "#             data = f.readlines()\n",
    "#             data = [line.strip() for line in data if line.strip()]\n",
    "#\n",
    "#             cleaned = clean_values(data)\n",
    "#             age.append(cleaned[0])\n",
    "#             gender.append(cleaned[1])\n",
    "#             bage.append(cleaned[2])\n",
    "#             radiologist.append(cleaned[3])\n",
    "# mexico_data = pd.DataFrame(data=zip(age, gender, bage, radiologist), columns=['age', 'gender', 'bage', 'radiologist'])"
   ],
   "metadata": {
    "collapsed": false,
    "ExecuteTime": {
     "end_time": "2023-07-13T08:52:54.445553300Z",
     "start_time": "2023-07-13T08:52:54.383728900Z"
    }
   }
  },
  {
   "cell_type": "code",
   "execution_count": 31,
   "outputs": [],
   "source": [],
   "metadata": {
    "collapsed": false,
    "ExecuteTime": {
     "end_time": "2023-07-10T12:40:45.745593900Z",
     "start_time": "2023-07-10T12:40:45.727370800Z"
    }
   }
  },
  {
   "cell_type": "code",
   "execution_count": 4,
   "outputs": [],
   "source": [
    "age, bage, gender, radiologist, year_entry, id_, paths = [], [], [], [], [], [], []"
   ],
   "metadata": {
    "collapsed": false,
    "ExecuteTime": {
     "end_time": "2023-07-13T08:52:57.692555600Z",
     "start_time": "2023-07-13T08:52:57.671895300Z"
    }
   }
  },
  {
   "cell_type": "code",
   "execution_count": 32,
   "outputs": [],
   "source": [
    "years = [2019]\n",
    "for year in years:\n",
    "    for dir in glob.glob(f\"data/Mexico_private_dataset/{year}/*\"):\n",
    "        for file in glob.glob(dir + \"/*.txt\"):\n",
    "            with open(file, \"r\", encoding=\"utf8\") as f:\n",
    "                data = f.readlines()\n",
    "                data = [line.strip() for line in data if line.strip()]\n",
    "                id_.append(len(id_) + 1)\n",
    "                dicom_file = glob.glob(dir + \"/*.dcm\")\n",
    "                paths.append(dicom_file[0])\n",
    "                cleaned = clean_values(data)\n",
    "                age.append(cleaned[0])\n",
    "                gender.append(cleaned[1])\n",
    "                bage.append(cleaned[2])\n",
    "                radiologist.append(cleaned[3])\n",
    "                year_entry.append(year)\n"
   ],
   "metadata": {
    "collapsed": false,
    "ExecuteTime": {
     "end_time": "2023-07-10T12:40:45.910959500Z",
     "start_time": "2023-07-10T12:40:45.891145600Z"
    }
   }
  },
  {
   "cell_type": "code",
   "execution_count": 5,
   "outputs": [],
   "source": [
    "for year in [2023]:\n",
    "    for dir in glob.glob(f\"data/Mexico_private_dataset/{year}/*\"):\n",
    "        for file in glob.glob(dir + \"/*.txt\"):\n",
    "            with open(file, \"r\", encoding=\"utf8\") as f:\n",
    "                data = f.readlines()\n",
    "                data = [line.strip() for line in data if line.strip()]\n",
    "                id_.append(len(id_) + 1)\n",
    "                dicom_file = glob.glob(dir + \"/*.dcm\")\n",
    "                paths.append(dicom_file[0])\n",
    "                age.append(calculate_total_months(data[0]))\n",
    "                if check_gender(data[1]) == \"M\":\n",
    "                    gender.append(0)\n",
    "                elif check_gender(data[1]) == \"F\":\n",
    "                    gender.append(1)\n",
    "                else:\n",
    "                    gender.append(None)\n",
    "                bage.append(calculate_total_months(data[2].split(\":\")[1]))\n",
    "                radiologist.append(data[3].split(\":\")[1].strip().upper())\n",
    "                year_entry.append(year)\n"
   ],
   "metadata": {
    "collapsed": false,
    "ExecuteTime": {
     "end_time": "2023-07-13T08:52:59.819931500Z",
     "start_time": "2023-07-13T08:52:59.781638700Z"
    }
   }
  },
  {
   "cell_type": "code",
   "execution_count": 11,
   "outputs": [
    {
     "data": {
      "text/plain": "      id  age  gender  boneage radiologist  year_entry  \\\n0      1   84       0       72         JSA        2023   \n1      2  112       0       84         JSA        2023   \n2      3   63       1       36         JSA        2023   \n3      4  135       0      132         JSA        2023   \n4      5  154       1      144         JSA        2023   \n..   ...  ...     ...      ...         ...         ...   \n111  112   97       1       84         JSA        2023   \n112  113   76       1       66         JSA        2023   \n113  114  138       1      144         JSA        2023   \n114  115  111       0       84         JSA        2023   \n115  116   97       1       94         JSA        2023   \n\n                                                  path  \n0    data/Mexico_private_dataset/2023\\AGAMI KALACH,...  \n1    data/Mexico_private_dataset/2023\\AGAMI KALACH,...  \n2    data/Mexico_private_dataset/2023\\AGAMI KALACH,...  \n3    data/Mexico_private_dataset/2023\\AGAMI KALACH,...  \n4    data/Mexico_private_dataset/2023\\AGUILAR ALVAR...  \n..                                                 ...  \n111  data/Mexico_private_dataset/2023\\SAADIA DICKTE...  \n112  data/Mexico_private_dataset/2023\\SAADIA DICKTE...  \n113  data/Mexico_private_dataset/2023\\SACAL ROMANO,...  \n114  data/Mexico_private_dataset/2023\\SAINZ GONZALE...  \n115  data/Mexico_private_dataset/2023\\SAINZ GONZALE...  \n\n[116 rows x 7 columns]",
      "text/html": "<div>\n<style scoped>\n    .dataframe tbody tr th:only-of-type {\n        vertical-align: middle;\n    }\n\n    .dataframe tbody tr th {\n        vertical-align: top;\n    }\n\n    .dataframe thead th {\n        text-align: right;\n    }\n</style>\n<table border=\"1\" class=\"dataframe\">\n  <thead>\n    <tr style=\"text-align: right;\">\n      <th></th>\n      <th>id</th>\n      <th>age</th>\n      <th>gender</th>\n      <th>boneage</th>\n      <th>radiologist</th>\n      <th>year_entry</th>\n      <th>path</th>\n    </tr>\n  </thead>\n  <tbody>\n    <tr>\n      <th>0</th>\n      <td>1</td>\n      <td>84</td>\n      <td>0</td>\n      <td>72</td>\n      <td>JSA</td>\n      <td>2023</td>\n      <td>data/Mexico_private_dataset/2023\\AGAMI KALACH,...</td>\n    </tr>\n    <tr>\n      <th>1</th>\n      <td>2</td>\n      <td>112</td>\n      <td>0</td>\n      <td>84</td>\n      <td>JSA</td>\n      <td>2023</td>\n      <td>data/Mexico_private_dataset/2023\\AGAMI KALACH,...</td>\n    </tr>\n    <tr>\n      <th>2</th>\n      <td>3</td>\n      <td>63</td>\n      <td>1</td>\n      <td>36</td>\n      <td>JSA</td>\n      <td>2023</td>\n      <td>data/Mexico_private_dataset/2023\\AGAMI KALACH,...</td>\n    </tr>\n    <tr>\n      <th>3</th>\n      <td>4</td>\n      <td>135</td>\n      <td>0</td>\n      <td>132</td>\n      <td>JSA</td>\n      <td>2023</td>\n      <td>data/Mexico_private_dataset/2023\\AGAMI KALACH,...</td>\n    </tr>\n    <tr>\n      <th>4</th>\n      <td>5</td>\n      <td>154</td>\n      <td>1</td>\n      <td>144</td>\n      <td>JSA</td>\n      <td>2023</td>\n      <td>data/Mexico_private_dataset/2023\\AGUILAR ALVAR...</td>\n    </tr>\n    <tr>\n      <th>...</th>\n      <td>...</td>\n      <td>...</td>\n      <td>...</td>\n      <td>...</td>\n      <td>...</td>\n      <td>...</td>\n      <td>...</td>\n    </tr>\n    <tr>\n      <th>111</th>\n      <td>112</td>\n      <td>97</td>\n      <td>1</td>\n      <td>84</td>\n      <td>JSA</td>\n      <td>2023</td>\n      <td>data/Mexico_private_dataset/2023\\SAADIA DICKTE...</td>\n    </tr>\n    <tr>\n      <th>112</th>\n      <td>113</td>\n      <td>76</td>\n      <td>1</td>\n      <td>66</td>\n      <td>JSA</td>\n      <td>2023</td>\n      <td>data/Mexico_private_dataset/2023\\SAADIA DICKTE...</td>\n    </tr>\n    <tr>\n      <th>113</th>\n      <td>114</td>\n      <td>138</td>\n      <td>1</td>\n      <td>144</td>\n      <td>JSA</td>\n      <td>2023</td>\n      <td>data/Mexico_private_dataset/2023\\SACAL ROMANO,...</td>\n    </tr>\n    <tr>\n      <th>114</th>\n      <td>115</td>\n      <td>111</td>\n      <td>0</td>\n      <td>84</td>\n      <td>JSA</td>\n      <td>2023</td>\n      <td>data/Mexico_private_dataset/2023\\SAINZ GONZALE...</td>\n    </tr>\n    <tr>\n      <th>115</th>\n      <td>116</td>\n      <td>97</td>\n      <td>1</td>\n      <td>94</td>\n      <td>JSA</td>\n      <td>2023</td>\n      <td>data/Mexico_private_dataset/2023\\SAINZ GONZALE...</td>\n    </tr>\n  </tbody>\n</table>\n<p>116 rows × 7 columns</p>\n</div>"
     },
     "execution_count": 11,
     "metadata": {},
     "output_type": "execute_result"
    }
   ],
   "source": [
    "mexico_data"
   ],
   "metadata": {
    "collapsed": false,
    "ExecuteTime": {
     "end_time": "2023-07-13T08:54:08.364577900Z",
     "start_time": "2023-07-13T08:54:08.339222300Z"
    }
   }
  },
  {
   "cell_type": "code",
   "execution_count": 6,
   "outputs": [],
   "source": [
    "mexico_data = pd.DataFrame(data=zip(id_, age, gender, bage, radiologist, year_entry, paths),\n",
    "                           columns=['id','age', 'gender', 'boneage', 'radiologist', 'year_entry', 'path'])"
   ],
   "metadata": {
    "collapsed": false,
    "ExecuteTime": {
     "end_time": "2023-07-13T08:53:11.520509200Z",
     "start_time": "2023-07-13T08:53:11.507995500Z"
    }
   }
  },
  {
   "cell_type": "code",
   "execution_count": 12,
   "outputs": [],
   "source": [
    "mexico_data.dropna(inplace=True)\n",
    "mexico_data['gender'] = mexico_data.gender.astype(int)"
   ],
   "metadata": {
    "collapsed": false,
    "ExecuteTime": {
     "end_time": "2023-07-13T08:54:57.686273900Z",
     "start_time": "2023-07-13T08:54:57.677440Z"
    }
   }
  },
  {
   "cell_type": "code",
   "execution_count": 15,
   "outputs": [
    {
     "data": {
      "text/plain": "      id  age  gender  boneage radiologist  year_entry  \\\n0      1   84       0       72         JSA        2023   \n1      2  112       0       84         JSA        2023   \n2      3   63       1       36         JSA        2023   \n3      4  135       0      132         JSA        2023   \n4      5  154       1      144         JSA        2023   \n..   ...  ...     ...      ...         ...         ...   \n111  112   97       1       84         JSA        2023   \n112  113   76       1       66         JSA        2023   \n113  114  138       1      144         JSA        2023   \n114  115  111       0       84         JSA        2023   \n115  116   97       1       94         JSA        2023   \n\n                                                  path  \n0    data/Mexico_private_dataset/2023\\AGAMI KALACH,...  \n1    data/Mexico_private_dataset/2023\\AGAMI KALACH,...  \n2    data/Mexico_private_dataset/2023\\AGAMI KALACH,...  \n3    data/Mexico_private_dataset/2023\\AGAMI KALACH,...  \n4    data/Mexico_private_dataset/2023\\AGUILAR ALVAR...  \n..                                                 ...  \n111  data/Mexico_private_dataset/2023\\SAADIA DICKTE...  \n112  data/Mexico_private_dataset/2023\\SAADIA DICKTE...  \n113  data/Mexico_private_dataset/2023\\SACAL ROMANO,...  \n114  data/Mexico_private_dataset/2023\\SAINZ GONZALE...  \n115  data/Mexico_private_dataset/2023\\SAINZ GONZALE...  \n\n[116 rows x 7 columns]",
      "text/html": "<div>\n<style scoped>\n    .dataframe tbody tr th:only-of-type {\n        vertical-align: middle;\n    }\n\n    .dataframe tbody tr th {\n        vertical-align: top;\n    }\n\n    .dataframe thead th {\n        text-align: right;\n    }\n</style>\n<table border=\"1\" class=\"dataframe\">\n  <thead>\n    <tr style=\"text-align: right;\">\n      <th></th>\n      <th>id</th>\n      <th>age</th>\n      <th>gender</th>\n      <th>boneage</th>\n      <th>radiologist</th>\n      <th>year_entry</th>\n      <th>path</th>\n    </tr>\n  </thead>\n  <tbody>\n    <tr>\n      <th>0</th>\n      <td>1</td>\n      <td>84</td>\n      <td>0</td>\n      <td>72</td>\n      <td>JSA</td>\n      <td>2023</td>\n      <td>data/Mexico_private_dataset/2023\\AGAMI KALACH,...</td>\n    </tr>\n    <tr>\n      <th>1</th>\n      <td>2</td>\n      <td>112</td>\n      <td>0</td>\n      <td>84</td>\n      <td>JSA</td>\n      <td>2023</td>\n      <td>data/Mexico_private_dataset/2023\\AGAMI KALACH,...</td>\n    </tr>\n    <tr>\n      <th>2</th>\n      <td>3</td>\n      <td>63</td>\n      <td>1</td>\n      <td>36</td>\n      <td>JSA</td>\n      <td>2023</td>\n      <td>data/Mexico_private_dataset/2023\\AGAMI KALACH,...</td>\n    </tr>\n    <tr>\n      <th>3</th>\n      <td>4</td>\n      <td>135</td>\n      <td>0</td>\n      <td>132</td>\n      <td>JSA</td>\n      <td>2023</td>\n      <td>data/Mexico_private_dataset/2023\\AGAMI KALACH,...</td>\n    </tr>\n    <tr>\n      <th>4</th>\n      <td>5</td>\n      <td>154</td>\n      <td>1</td>\n      <td>144</td>\n      <td>JSA</td>\n      <td>2023</td>\n      <td>data/Mexico_private_dataset/2023\\AGUILAR ALVAR...</td>\n    </tr>\n    <tr>\n      <th>...</th>\n      <td>...</td>\n      <td>...</td>\n      <td>...</td>\n      <td>...</td>\n      <td>...</td>\n      <td>...</td>\n      <td>...</td>\n    </tr>\n    <tr>\n      <th>111</th>\n      <td>112</td>\n      <td>97</td>\n      <td>1</td>\n      <td>84</td>\n      <td>JSA</td>\n      <td>2023</td>\n      <td>data/Mexico_private_dataset/2023\\SAADIA DICKTE...</td>\n    </tr>\n    <tr>\n      <th>112</th>\n      <td>113</td>\n      <td>76</td>\n      <td>1</td>\n      <td>66</td>\n      <td>JSA</td>\n      <td>2023</td>\n      <td>data/Mexico_private_dataset/2023\\SAADIA DICKTE...</td>\n    </tr>\n    <tr>\n      <th>113</th>\n      <td>114</td>\n      <td>138</td>\n      <td>1</td>\n      <td>144</td>\n      <td>JSA</td>\n      <td>2023</td>\n      <td>data/Mexico_private_dataset/2023\\SACAL ROMANO,...</td>\n    </tr>\n    <tr>\n      <th>114</th>\n      <td>115</td>\n      <td>111</td>\n      <td>0</td>\n      <td>84</td>\n      <td>JSA</td>\n      <td>2023</td>\n      <td>data/Mexico_private_dataset/2023\\SAINZ GONZALE...</td>\n    </tr>\n    <tr>\n      <th>115</th>\n      <td>116</td>\n      <td>97</td>\n      <td>1</td>\n      <td>94</td>\n      <td>JSA</td>\n      <td>2023</td>\n      <td>data/Mexico_private_dataset/2023\\SAINZ GONZALE...</td>\n    </tr>\n  </tbody>\n</table>\n<p>116 rows × 7 columns</p>\n</div>"
     },
     "execution_count": 15,
     "metadata": {},
     "output_type": "execute_result"
    }
   ],
   "source": [
    "mexico_data"
   ],
   "metadata": {
    "collapsed": false,
    "ExecuteTime": {
     "end_time": "2023-07-13T08:57:00.067680200Z",
     "start_time": "2023-07-13T08:57:00.054425500Z"
    }
   }
  },
  {
   "cell_type": "code",
   "execution_count": 14,
   "outputs": [],
   "source": [
    "# save pandas df as csv without index\n",
    "mexico_data.to_csv(\"./data/Mexico_private_dataset/mexico_additional_data.csv\", index=False)"
   ],
   "metadata": {
    "collapsed": false,
    "ExecuteTime": {
     "end_time": "2023-07-13T08:55:06.286316200Z",
     "start_time": "2023-07-13T08:55:06.251891900Z"
    }
   }
  },
  {
   "cell_type": "markdown",
   "source": [
    "### Run the SAM model and continue from here"
   ],
   "metadata": {
    "collapsed": false
   }
  },
  {
   "cell_type": "code",
   "execution_count": 16,
   "outputs": [
    {
     "data": {
      "text/plain": "      id  age  gender  boneage radiologist  year_entry  \\\n0      1   84       0       72         JSA        2023   \n1      2  112       0       84         JSA        2023   \n2      3   63       1       36         JSA        2023   \n3      4  135       0      132         JSA        2023   \n4      5  154       1      144         JSA        2023   \n..   ...  ...     ...      ...         ...         ...   \n111  112   97       1       84         JSA        2023   \n112  113   76       1       66         JSA        2023   \n113  114  138       1      144         JSA        2023   \n114  115  111       0       84         JSA        2023   \n115  116   97       1       94         JSA        2023   \n\n                                                  path  \n0    data/Mexico_private_dataset/2023\\AGAMI KALACH,...  \n1    data/Mexico_private_dataset/2023\\AGAMI KALACH,...  \n2    data/Mexico_private_dataset/2023\\AGAMI KALACH,...  \n3    data/Mexico_private_dataset/2023\\AGAMI KALACH,...  \n4    data/Mexico_private_dataset/2023\\AGUILAR ALVAR...  \n..                                                 ...  \n111  data/Mexico_private_dataset/2023\\SAADIA DICKTE...  \n112  data/Mexico_private_dataset/2023\\SAADIA DICKTE...  \n113  data/Mexico_private_dataset/2023\\SACAL ROMANO,...  \n114  data/Mexico_private_dataset/2023\\SAINZ GONZALE...  \n115  data/Mexico_private_dataset/2023\\SAINZ GONZALE...  \n\n[116 rows x 7 columns]",
      "text/html": "<div>\n<style scoped>\n    .dataframe tbody tr th:only-of-type {\n        vertical-align: middle;\n    }\n\n    .dataframe tbody tr th {\n        vertical-align: top;\n    }\n\n    .dataframe thead th {\n        text-align: right;\n    }\n</style>\n<table border=\"1\" class=\"dataframe\">\n  <thead>\n    <tr style=\"text-align: right;\">\n      <th></th>\n      <th>id</th>\n      <th>age</th>\n      <th>gender</th>\n      <th>boneage</th>\n      <th>radiologist</th>\n      <th>year_entry</th>\n      <th>path</th>\n    </tr>\n  </thead>\n  <tbody>\n    <tr>\n      <th>0</th>\n      <td>1</td>\n      <td>84</td>\n      <td>0</td>\n      <td>72</td>\n      <td>JSA</td>\n      <td>2023</td>\n      <td>data/Mexico_private_dataset/2023\\AGAMI KALACH,...</td>\n    </tr>\n    <tr>\n      <th>1</th>\n      <td>2</td>\n      <td>112</td>\n      <td>0</td>\n      <td>84</td>\n      <td>JSA</td>\n      <td>2023</td>\n      <td>data/Mexico_private_dataset/2023\\AGAMI KALACH,...</td>\n    </tr>\n    <tr>\n      <th>2</th>\n      <td>3</td>\n      <td>63</td>\n      <td>1</td>\n      <td>36</td>\n      <td>JSA</td>\n      <td>2023</td>\n      <td>data/Mexico_private_dataset/2023\\AGAMI KALACH,...</td>\n    </tr>\n    <tr>\n      <th>3</th>\n      <td>4</td>\n      <td>135</td>\n      <td>0</td>\n      <td>132</td>\n      <td>JSA</td>\n      <td>2023</td>\n      <td>data/Mexico_private_dataset/2023\\AGAMI KALACH,...</td>\n    </tr>\n    <tr>\n      <th>4</th>\n      <td>5</td>\n      <td>154</td>\n      <td>1</td>\n      <td>144</td>\n      <td>JSA</td>\n      <td>2023</td>\n      <td>data/Mexico_private_dataset/2023\\AGUILAR ALVAR...</td>\n    </tr>\n    <tr>\n      <th>...</th>\n      <td>...</td>\n      <td>...</td>\n      <td>...</td>\n      <td>...</td>\n      <td>...</td>\n      <td>...</td>\n      <td>...</td>\n    </tr>\n    <tr>\n      <th>111</th>\n      <td>112</td>\n      <td>97</td>\n      <td>1</td>\n      <td>84</td>\n      <td>JSA</td>\n      <td>2023</td>\n      <td>data/Mexico_private_dataset/2023\\SAADIA DICKTE...</td>\n    </tr>\n    <tr>\n      <th>112</th>\n      <td>113</td>\n      <td>76</td>\n      <td>1</td>\n      <td>66</td>\n      <td>JSA</td>\n      <td>2023</td>\n      <td>data/Mexico_private_dataset/2023\\SAADIA DICKTE...</td>\n    </tr>\n    <tr>\n      <th>113</th>\n      <td>114</td>\n      <td>138</td>\n      <td>1</td>\n      <td>144</td>\n      <td>JSA</td>\n      <td>2023</td>\n      <td>data/Mexico_private_dataset/2023\\SACAL ROMANO,...</td>\n    </tr>\n    <tr>\n      <th>114</th>\n      <td>115</td>\n      <td>111</td>\n      <td>0</td>\n      <td>84</td>\n      <td>JSA</td>\n      <td>2023</td>\n      <td>data/Mexico_private_dataset/2023\\SAINZ GONZALE...</td>\n    </tr>\n    <tr>\n      <th>115</th>\n      <td>116</td>\n      <td>97</td>\n      <td>1</td>\n      <td>94</td>\n      <td>JSA</td>\n      <td>2023</td>\n      <td>data/Mexico_private_dataset/2023\\SAINZ GONZALE...</td>\n    </tr>\n  </tbody>\n</table>\n<p>116 rows × 7 columns</p>\n</div>"
     },
     "execution_count": 16,
     "metadata": {},
     "output_type": "execute_result"
    }
   ],
   "source": [
    "mexico_data"
   ],
   "metadata": {
    "collapsed": false,
    "ExecuteTime": {
     "end_time": "2023-07-13T11:57:50.974061Z",
     "start_time": "2023-07-13T11:57:50.910017900Z"
    }
   }
  },
  {
   "cell_type": "code",
   "execution_count": 17,
   "outputs": [],
   "source": [
    "mexico_data['path'] = mexico_data['id'].map(lambda x: os.path.join(\"data\",\n",
    "                                                         \"Mexico_private_dataset\",\n",
    "                                                         'additional',\n",
    "                                                         '{}.png'.format(x)))"
   ],
   "metadata": {
    "collapsed": false,
    "ExecuteTime": {
     "end_time": "2023-07-13T11:58:21.168652500Z",
     "start_time": "2023-07-13T11:58:21.154673100Z"
    }
   }
  },
  {
   "cell_type": "code",
   "execution_count": 18,
   "outputs": [
    {
     "data": {
      "text/plain": "      id  age  gender  boneage radiologist  year_entry  \\\n0      1   84       0       72         JSA        2023   \n1      2  112       0       84         JSA        2023   \n2      3   63       1       36         JSA        2023   \n3      4  135       0      132         JSA        2023   \n4      5  154       1      144         JSA        2023   \n..   ...  ...     ...      ...         ...         ...   \n111  112   97       1       84         JSA        2023   \n112  113   76       1       66         JSA        2023   \n113  114  138       1      144         JSA        2023   \n114  115  111       0       84         JSA        2023   \n115  116   97       1       94         JSA        2023   \n\n                                               path  \n0      data\\Mexico_private_dataset\\additional\\1.png  \n1      data\\Mexico_private_dataset\\additional\\2.png  \n2      data\\Mexico_private_dataset\\additional\\3.png  \n3      data\\Mexico_private_dataset\\additional\\4.png  \n4      data\\Mexico_private_dataset\\additional\\5.png  \n..                                              ...  \n111  data\\Mexico_private_dataset\\additional\\112.png  \n112  data\\Mexico_private_dataset\\additional\\113.png  \n113  data\\Mexico_private_dataset\\additional\\114.png  \n114  data\\Mexico_private_dataset\\additional\\115.png  \n115  data\\Mexico_private_dataset\\additional\\116.png  \n\n[116 rows x 7 columns]",
      "text/html": "<div>\n<style scoped>\n    .dataframe tbody tr th:only-of-type {\n        vertical-align: middle;\n    }\n\n    .dataframe tbody tr th {\n        vertical-align: top;\n    }\n\n    .dataframe thead th {\n        text-align: right;\n    }\n</style>\n<table border=\"1\" class=\"dataframe\">\n  <thead>\n    <tr style=\"text-align: right;\">\n      <th></th>\n      <th>id</th>\n      <th>age</th>\n      <th>gender</th>\n      <th>boneage</th>\n      <th>radiologist</th>\n      <th>year_entry</th>\n      <th>path</th>\n    </tr>\n  </thead>\n  <tbody>\n    <tr>\n      <th>0</th>\n      <td>1</td>\n      <td>84</td>\n      <td>0</td>\n      <td>72</td>\n      <td>JSA</td>\n      <td>2023</td>\n      <td>data\\Mexico_private_dataset\\additional\\1.png</td>\n    </tr>\n    <tr>\n      <th>1</th>\n      <td>2</td>\n      <td>112</td>\n      <td>0</td>\n      <td>84</td>\n      <td>JSA</td>\n      <td>2023</td>\n      <td>data\\Mexico_private_dataset\\additional\\2.png</td>\n    </tr>\n    <tr>\n      <th>2</th>\n      <td>3</td>\n      <td>63</td>\n      <td>1</td>\n      <td>36</td>\n      <td>JSA</td>\n      <td>2023</td>\n      <td>data\\Mexico_private_dataset\\additional\\3.png</td>\n    </tr>\n    <tr>\n      <th>3</th>\n      <td>4</td>\n      <td>135</td>\n      <td>0</td>\n      <td>132</td>\n      <td>JSA</td>\n      <td>2023</td>\n      <td>data\\Mexico_private_dataset\\additional\\4.png</td>\n    </tr>\n    <tr>\n      <th>4</th>\n      <td>5</td>\n      <td>154</td>\n      <td>1</td>\n      <td>144</td>\n      <td>JSA</td>\n      <td>2023</td>\n      <td>data\\Mexico_private_dataset\\additional\\5.png</td>\n    </tr>\n    <tr>\n      <th>...</th>\n      <td>...</td>\n      <td>...</td>\n      <td>...</td>\n      <td>...</td>\n      <td>...</td>\n      <td>...</td>\n      <td>...</td>\n    </tr>\n    <tr>\n      <th>111</th>\n      <td>112</td>\n      <td>97</td>\n      <td>1</td>\n      <td>84</td>\n      <td>JSA</td>\n      <td>2023</td>\n      <td>data\\Mexico_private_dataset\\additional\\112.png</td>\n    </tr>\n    <tr>\n      <th>112</th>\n      <td>113</td>\n      <td>76</td>\n      <td>1</td>\n      <td>66</td>\n      <td>JSA</td>\n      <td>2023</td>\n      <td>data\\Mexico_private_dataset\\additional\\113.png</td>\n    </tr>\n    <tr>\n      <th>113</th>\n      <td>114</td>\n      <td>138</td>\n      <td>1</td>\n      <td>144</td>\n      <td>JSA</td>\n      <td>2023</td>\n      <td>data\\Mexico_private_dataset\\additional\\114.png</td>\n    </tr>\n    <tr>\n      <th>114</th>\n      <td>115</td>\n      <td>111</td>\n      <td>0</td>\n      <td>84</td>\n      <td>JSA</td>\n      <td>2023</td>\n      <td>data\\Mexico_private_dataset\\additional\\115.png</td>\n    </tr>\n    <tr>\n      <th>115</th>\n      <td>116</td>\n      <td>97</td>\n      <td>1</td>\n      <td>94</td>\n      <td>JSA</td>\n      <td>2023</td>\n      <td>data\\Mexico_private_dataset\\additional\\116.png</td>\n    </tr>\n  </tbody>\n</table>\n<p>116 rows × 7 columns</p>\n</div>"
     },
     "execution_count": 18,
     "metadata": {},
     "output_type": "execute_result"
    }
   ],
   "source": [
    "mexico_data"
   ],
   "metadata": {
    "collapsed": false,
    "ExecuteTime": {
     "end_time": "2023-07-13T11:58:22.047640100Z",
     "start_time": "2023-07-13T11:58:22.031504300Z"
    }
   }
  },
  {
   "cell_type": "code",
   "execution_count": 19,
   "outputs": [
    {
     "data": {
      "text/plain": "gender\n1    61\n0    55\nName: count, dtype: int64"
     },
     "execution_count": 19,
     "metadata": {},
     "output_type": "execute_result"
    }
   ],
   "source": [
    "mexico_data.gender.value_counts()"
   ],
   "metadata": {
    "collapsed": false,
    "ExecuteTime": {
     "end_time": "2023-07-13T11:58:27.261742600Z",
     "start_time": "2023-07-13T11:58:27.236268900Z"
    }
   }
  },
  {
   "cell_type": "code",
   "execution_count": 20,
   "outputs": [
    {
     "name": "stdout",
     "output_type": "stream",
     "text": [
      "108 images found of 116 total\n"
     ]
    }
   ],
   "source": [
    "# Checking if all the images exist\n",
    "mexico_data['exists'] = mexico_data['path'].map(os.path.exists)\n",
    "print(mexico_data['exists'].sum(), 'images found of', mexico_data.shape[0], 'total')"
   ],
   "metadata": {
    "collapsed": false,
    "ExecuteTime": {
     "end_time": "2023-07-13T11:58:30.204019Z",
     "start_time": "2023-07-13T11:58:30.158907300Z"
    }
   }
  },
  {
   "cell_type": "code",
   "execution_count": 21,
   "outputs": [],
   "source": [
    "# Drop row if exist column is false does not exist\n",
    "mexico_data = mexico_data[mexico_data['exists']]"
   ],
   "metadata": {
    "collapsed": false,
    "ExecuteTime": {
     "end_time": "2023-07-13T11:58:37.192817500Z",
     "start_time": "2023-07-13T11:58:37.134831500Z"
    }
   }
  },
  {
   "cell_type": "code",
   "execution_count": 22,
   "outputs": [],
   "source": [
    "mexico_data.to_csv(\"./data/Mexico_private_dataset/mexico_preprocessed_additional.csv\", index=False)\n"
   ],
   "metadata": {
    "collapsed": false,
    "ExecuteTime": {
     "end_time": "2023-07-13T11:58:43.967530Z",
     "start_time": "2023-07-13T11:58:43.953022600Z"
    }
   }
  },
  {
   "cell_type": "code",
   "execution_count": null,
   "outputs": [],
   "source": [
    "# Train test split 5 fold on mexico_data\n",
    "from sklearn.model_selection import StratifiedKFold\n",
    "skf = StratifiedKFold(n_splits=5, shuffle=True, random_state=42)"
   ],
   "metadata": {
    "collapsed": false
   }
  },
  {
   "cell_type": "code",
   "execution_count": 45,
   "outputs": [
    {
     "data": {
      "text/plain": "Index(['id', 'age', 'gender', 'boneage', 'radiologist', 'year_entry', 'path',\n       'exists'],\n      dtype='object')"
     },
     "execution_count": 45,
     "metadata": {},
     "output_type": "execute_result"
    }
   ],
   "source": [
    "mexico_data.columns"
   ],
   "metadata": {
    "collapsed": false,
    "ExecuteTime": {
     "end_time": "2023-07-10T14:48:36.754310400Z",
     "start_time": "2023-07-10T14:48:36.742276600Z"
    }
   }
  },
  {
   "cell_type": "code",
   "execution_count": 51,
   "outputs": [
    {
     "name": "stderr",
     "output_type": "stream",
     "text": [
      "D:\\Installation\\anaconda\\envs\\bone_age_estimation\\lib\\site-packages\\sklearn\\model_selection\\_split.py:700: UserWarning: The least populated class in y has only 1 members, which is less than n_splits=5.\n",
      "  warnings.warn(\n"
     ]
    }
   ],
   "source": [
    "from sklearn.model_selection import StratifiedKFold\n",
    "\n",
    "# Separate the features from the target variable\n",
    "X = mexico_data[['age', 'gender']]\n",
    "y = mexico_data['boneage']\n",
    "\n",
    "# Create an instance of StratifiedKFold with 5 folds\n",
    "skf = StratifiedKFold(n_splits=5, shuffle=True, random_state=42)\n",
    "\n",
    "# Perform the stratified split and print the indices for each fold\n",
    "fold = 1\n",
    "splits = {}\n",
    "for train_index, test_index in skf.split(X, y):\n",
    "    splits[fold] = {}\n",
    "    splits[fold]['train'] = train_index\n",
    "    splits[fold]['val'] = test_index\n",
    "    fold += 1"
   ],
   "metadata": {
    "collapsed": false,
    "ExecuteTime": {
     "end_time": "2023-07-10T16:09:24.683055100Z",
     "start_time": "2023-07-10T16:09:24.665030400Z"
    }
   }
  },
  {
   "cell_type": "code",
   "execution_count": 63,
   "outputs": [],
   "source": [
    "# Save dictionary\n",
    "import pickle\n",
    "with open(\"data/Mexico_private_dataset/splits.pkl\", \"wb\") as f:\n",
    "    pickle.dump(splits, f)"
   ],
   "metadata": {
    "collapsed": false,
    "ExecuteTime": {
     "end_time": "2023-07-10T16:13:19.957391700Z",
     "start_time": "2023-07-10T16:13:19.951184500Z"
    }
   }
  },
  {
   "cell_type": "code",
   "execution_count": null,
   "outputs": [],
   "source": [],
   "metadata": {
    "collapsed": false
   }
  },
  {
   "cell_type": "code",
   "execution_count": null,
   "outputs": [],
   "source": [],
   "metadata": {
    "collapsed": false
   }
  },
  {
   "cell_type": "code",
   "execution_count": null,
   "outputs": [],
   "source": [],
   "metadata": {
    "collapsed": false
   }
  },
  {
   "cell_type": "markdown",
   "source": [
    "## Mixing new private dataset"
   ],
   "metadata": {
    "collapsed": false
   }
  },
  {
   "cell_type": "code",
   "execution_count": 3,
   "outputs": [],
   "source": [
    "import pandas as pd\n",
    "import numpy as np\n",
    "import glob"
   ],
   "metadata": {
    "collapsed": false,
    "ExecuteTime": {
     "end_time": "2023-07-15T07:32:39.721301Z",
     "start_time": "2023-07-15T07:32:39.704929800Z"
    }
   }
  },
  {
   "cell_type": "code",
   "execution_count": 26,
   "outputs": [],
   "source": [
    "# Load the new private dataset\n",
    "new_private_data = pd.read_csv(\"./data/Mexico_private_dataset/mexico_preprocessed_additional.csv\")\n",
    "old_private_data = pd.read_csv(\"./data/Mexico_private_dataset/mexico_preprocessed_dataset.csv\")"
   ],
   "metadata": {
    "collapsed": false,
    "ExecuteTime": {
     "end_time": "2023-07-15T07:42:45.142499600Z",
     "start_time": "2023-07-15T07:42:45.134244500Z"
    }
   }
  },
  {
   "cell_type": "code",
   "execution_count": 27,
   "outputs": [
    {
     "data": {
      "text/plain": "(108, 341)"
     },
     "execution_count": 27,
     "metadata": {},
     "output_type": "execute_result"
    }
   ],
   "source": [
    "len(new_private_data), len(old_private_data)"
   ],
   "metadata": {
    "collapsed": false,
    "ExecuteTime": {
     "end_time": "2023-07-15T07:42:45.580483200Z",
     "start_time": "2023-07-15T07:42:45.562836300Z"
    }
   }
  },
  {
   "cell_type": "code",
   "execution_count": 28,
   "outputs": [],
   "source": [
    "# Combine both pandas dataframes and reindex the id column"
   ],
   "metadata": {
    "collapsed": false,
    "ExecuteTime": {
     "end_time": "2023-07-15T07:42:46.260529200Z",
     "start_time": "2023-07-15T07:42:46.248726800Z"
    }
   }
  },
  {
   "cell_type": "code",
   "execution_count": 29,
   "outputs": [],
   "source": [
    "# Use the last id from the old private dataset\n",
    "new_private_data['id'] = new_private_data['id'] + old_private_data['id'][len(old_private_data) - 1]"
   ],
   "metadata": {
    "collapsed": false,
    "ExecuteTime": {
     "end_time": "2023-07-15T07:42:46.764338900Z",
     "start_time": "2023-07-15T07:42:46.743361500Z"
    }
   }
  },
  {
   "cell_type": "code",
   "execution_count": 30,
   "outputs": [
    {
     "data": {
      "text/plain": "      id  age  gender  boneage radiologist  year_entry  \\\n0    346   84       0       72         JSA        2023   \n1    347  112       0       84         JSA        2023   \n2    349  135       0      132         JSA        2023   \n3    351  114       1      120         JSA        2023   \n4    352  160       1      180         JSA        2023   \n..   ...  ...     ...      ...         ...         ...   \n103  457   97       1       84         JSA        2023   \n104  458   76       1       66         JSA        2023   \n105  459  138       1      144         JSA        2023   \n106  460  111       0       84         JSA        2023   \n107  461   97       1       94         JSA        2023   \n\n                                               path  exists  \n0      data\\Mexico_private_dataset\\additional\\1.png    True  \n1      data\\Mexico_private_dataset\\additional\\2.png    True  \n2      data\\Mexico_private_dataset\\additional\\4.png    True  \n3      data\\Mexico_private_dataset\\additional\\6.png    True  \n4      data\\Mexico_private_dataset\\additional\\7.png    True  \n..                                              ...     ...  \n103  data\\Mexico_private_dataset\\additional\\112.png    True  \n104  data\\Mexico_private_dataset\\additional\\113.png    True  \n105  data\\Mexico_private_dataset\\additional\\114.png    True  \n106  data\\Mexico_private_dataset\\additional\\115.png    True  \n107  data\\Mexico_private_dataset\\additional\\116.png    True  \n\n[108 rows x 8 columns]",
      "text/html": "<div>\n<style scoped>\n    .dataframe tbody tr th:only-of-type {\n        vertical-align: middle;\n    }\n\n    .dataframe tbody tr th {\n        vertical-align: top;\n    }\n\n    .dataframe thead th {\n        text-align: right;\n    }\n</style>\n<table border=\"1\" class=\"dataframe\">\n  <thead>\n    <tr style=\"text-align: right;\">\n      <th></th>\n      <th>id</th>\n      <th>age</th>\n      <th>gender</th>\n      <th>boneage</th>\n      <th>radiologist</th>\n      <th>year_entry</th>\n      <th>path</th>\n      <th>exists</th>\n    </tr>\n  </thead>\n  <tbody>\n    <tr>\n      <th>0</th>\n      <td>346</td>\n      <td>84</td>\n      <td>0</td>\n      <td>72</td>\n      <td>JSA</td>\n      <td>2023</td>\n      <td>data\\Mexico_private_dataset\\additional\\1.png</td>\n      <td>True</td>\n    </tr>\n    <tr>\n      <th>1</th>\n      <td>347</td>\n      <td>112</td>\n      <td>0</td>\n      <td>84</td>\n      <td>JSA</td>\n      <td>2023</td>\n      <td>data\\Mexico_private_dataset\\additional\\2.png</td>\n      <td>True</td>\n    </tr>\n    <tr>\n      <th>2</th>\n      <td>349</td>\n      <td>135</td>\n      <td>0</td>\n      <td>132</td>\n      <td>JSA</td>\n      <td>2023</td>\n      <td>data\\Mexico_private_dataset\\additional\\4.png</td>\n      <td>True</td>\n    </tr>\n    <tr>\n      <th>3</th>\n      <td>351</td>\n      <td>114</td>\n      <td>1</td>\n      <td>120</td>\n      <td>JSA</td>\n      <td>2023</td>\n      <td>data\\Mexico_private_dataset\\additional\\6.png</td>\n      <td>True</td>\n    </tr>\n    <tr>\n      <th>4</th>\n      <td>352</td>\n      <td>160</td>\n      <td>1</td>\n      <td>180</td>\n      <td>JSA</td>\n      <td>2023</td>\n      <td>data\\Mexico_private_dataset\\additional\\7.png</td>\n      <td>True</td>\n    </tr>\n    <tr>\n      <th>...</th>\n      <td>...</td>\n      <td>...</td>\n      <td>...</td>\n      <td>...</td>\n      <td>...</td>\n      <td>...</td>\n      <td>...</td>\n      <td>...</td>\n    </tr>\n    <tr>\n      <th>103</th>\n      <td>457</td>\n      <td>97</td>\n      <td>1</td>\n      <td>84</td>\n      <td>JSA</td>\n      <td>2023</td>\n      <td>data\\Mexico_private_dataset\\additional\\112.png</td>\n      <td>True</td>\n    </tr>\n    <tr>\n      <th>104</th>\n      <td>458</td>\n      <td>76</td>\n      <td>1</td>\n      <td>66</td>\n      <td>JSA</td>\n      <td>2023</td>\n      <td>data\\Mexico_private_dataset\\additional\\113.png</td>\n      <td>True</td>\n    </tr>\n    <tr>\n      <th>105</th>\n      <td>459</td>\n      <td>138</td>\n      <td>1</td>\n      <td>144</td>\n      <td>JSA</td>\n      <td>2023</td>\n      <td>data\\Mexico_private_dataset\\additional\\114.png</td>\n      <td>True</td>\n    </tr>\n    <tr>\n      <th>106</th>\n      <td>460</td>\n      <td>111</td>\n      <td>0</td>\n      <td>84</td>\n      <td>JSA</td>\n      <td>2023</td>\n      <td>data\\Mexico_private_dataset\\additional\\115.png</td>\n      <td>True</td>\n    </tr>\n    <tr>\n      <th>107</th>\n      <td>461</td>\n      <td>97</td>\n      <td>1</td>\n      <td>94</td>\n      <td>JSA</td>\n      <td>2023</td>\n      <td>data\\Mexico_private_dataset\\additional\\116.png</td>\n      <td>True</td>\n    </tr>\n  </tbody>\n</table>\n<p>108 rows × 8 columns</p>\n</div>"
     },
     "execution_count": 30,
     "metadata": {},
     "output_type": "execute_result"
    }
   ],
   "source": [
    "new_private_data"
   ],
   "metadata": {
    "collapsed": false,
    "ExecuteTime": {
     "end_time": "2023-07-15T07:42:47.475229Z",
     "start_time": "2023-07-15T07:42:47.459866100Z"
    }
   }
  },
  {
   "cell_type": "code",
   "execution_count": 31,
   "outputs": [],
   "source": [
    "# Open the images from the path column\n",
    "import cv2\n",
    "for row in new_private_data.iterrows():\n",
    "    image = cv2.imread(row[1]['path'], cv2.IMREAD_UNCHANGED)\n",
    "    cv2.imwrite(f\"./data/Mexico_private_dataset/additional/{row[1]['id']}.png\", image)\n",
    "    # delete the old image\n",
    "    os.remove(row[1]['path'])\n",
    "    # Rename the path value in the path column\n",
    "    new_private_data.loc[row[0], 'path'] = f\"./data/Mexico_private_dataset/additional/{row[1]['id']}.png\"\n"
   ],
   "metadata": {
    "collapsed": false,
    "ExecuteTime": {
     "end_time": "2023-07-15T07:43:12.650306400Z",
     "start_time": "2023-07-15T07:43:09.074458600Z"
    }
   }
  },
  {
   "cell_type": "code",
   "execution_count": 32,
   "outputs": [],
   "source": [
    "# combine both dataframe\n",
    "mexico_data = pd.concat([old_private_data, new_private_data])\n"
   ],
   "metadata": {
    "collapsed": false,
    "ExecuteTime": {
     "end_time": "2023-07-15T07:43:12.665710200Z",
     "start_time": "2023-07-15T07:43:12.653057400Z"
    }
   }
  },
  {
   "cell_type": "code",
   "execution_count": 33,
   "outputs": [
    {
     "data": {
      "text/plain": "449"
     },
     "execution_count": 33,
     "metadata": {},
     "output_type": "execute_result"
    }
   ],
   "source": [
    "len(mexico_data)"
   ],
   "metadata": {
    "collapsed": false,
    "ExecuteTime": {
     "end_time": "2023-07-15T07:43:18.135346300Z",
     "start_time": "2023-07-15T07:43:18.131307900Z"
    }
   }
  },
  {
   "cell_type": "code",
   "execution_count": 40,
   "outputs": [],
   "source": [
    "# save pandas df as csv without index\n",
    "mexico_data.to_csv(\"./data/Mexico_private_dataset/mexico_complete_dataset.csv\", index=False)"
   ],
   "metadata": {
    "collapsed": false,
    "ExecuteTime": {
     "end_time": "2023-07-15T07:45:05.357604600Z",
     "start_time": "2023-07-15T07:45:05.324000400Z"
    }
   }
  },
  {
   "cell_type": "code",
   "execution_count": null,
   "outputs": [],
   "source": [],
   "metadata": {
    "collapsed": false
   }
  }
 ],
 "metadata": {
  "kernelspec": {
   "display_name": "Python 3",
   "language": "python",
   "name": "python3"
  },
  "language_info": {
   "codemirror_mode": {
    "name": "ipython",
    "version": 2
   },
   "file_extension": ".py",
   "mimetype": "text/x-python",
   "name": "python",
   "nbconvert_exporter": "python",
   "pygments_lexer": "ipython2",
   "version": "2.7.6"
  }
 },
 "nbformat": 4,
 "nbformat_minor": 0
}
